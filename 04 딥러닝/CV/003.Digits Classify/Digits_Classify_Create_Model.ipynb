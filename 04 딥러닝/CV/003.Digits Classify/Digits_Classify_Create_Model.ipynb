{
  "nbformat": 4,
  "nbformat_minor": 0,
  "metadata": {
    "colab": {
      "name": "Digits_Classify_Create_Model.ipynb",
      "provenance": [],
      "collapsed_sections": []
    },
    "kernelspec": {
      "name": "python3",
      "display_name": "Python 3"
    },
    "language_info": {
      "name": "python"
    },
    "accelerator": "GPU"
  },
  "cells": [
    {
      "cell_type": "code",
      "execution_count": null,
      "metadata": {
        "id": "voHWVeNua5U0"
      },
      "outputs": [],
      "source": [
        "#-*- coding: utf-8 -*-\n",
        "\n",
        "from keras.datasets import mnist\n",
        "from keras.utils import np_utils\n",
        "from keras.models import Sequential\n",
        "from keras.layers import Dense, Dropout, Flatten, Conv2D, MaxPooling2D\n",
        "from keras.callbacks import ModelCheckpoint,EarlyStopping\n",
        "import math\n",
        "import matplotlib.pyplot as plt\n",
        "import numpy as np\n",
        "import os\n",
        "import tensorflow as tf"
      ]
    },
    {
      "cell_type": "code",
      "source": [
        "# seed 값 설정 \n",
        "seed = 42\n",
        "np.random.seed(seed)\n",
        "tf.random.set_seed(42)"
      ],
      "metadata": {
        "id": "vID3fom2bFqk"
      },
      "execution_count": null,
      "outputs": []
    },
    {
      "cell_type": "code",
      "source": [
        "# MNIST 데이터 불러오기 (train,test set 분리)\n",
        "(X_train, Y_train), (X_test, Y_test) = mnist.load_data()"
      ],
      "metadata": {
        "colab": {
          "base_uri": "https://localhost:8080/"
        },
        "id": "vG-5SOO0bMaE",
        "outputId": "68dcb6a3-d4e8-4bd0-ee95-8a77330f63ec"
      },
      "execution_count": null,
      "outputs": [
        {
          "output_type": "stream",
          "name": "stdout",
          "text": [
            "Downloading data from https://storage.googleapis.com/tensorflow/tf-keras-datasets/mnist.npz\n",
            "11493376/11490434 [==============================] - 0s 0us/step\n",
            "11501568/11490434 [==============================] - 0s 0us/step\n"
          ]
        }
      ]
    },
    {
      "cell_type": "markdown",
      "source": [
        "25개 샘플 이미지 display 해주는 함수 정의 "
      ],
      "metadata": {
        "id": "adWFhvn0QIDy"
      }
    },
    {
      "cell_type": "code",
      "source": [
        "def show_sample(images, labels, sample_count=25):\n",
        "  # Create a square with can fit {sample_count} images\n",
        "  grid_count = math.ceil(math.ceil(math.sqrt(sample_count)))\n",
        "  grid_count = min(grid_count, len(images), len(labels))\n",
        "  \n",
        "  plt.figure(figsize=(2*grid_count, 2*grid_count))\n",
        "  for i in range(sample_count):\n",
        "    plt.subplot(grid_count, grid_count, i+1)\n",
        "    plt.xticks([])\n",
        "    plt.yticks([])\n",
        "    plt.grid(False)\n",
        "    plt.imshow(images[i], cmap=plt.cm.gray)\n",
        "    plt.xlabel(labels[i])\n",
        "  plt.show()"
      ],
      "metadata": {
        "id": "6hOsYZqpP3tb"
      },
      "execution_count": null,
      "outputs": []
    },
    {
      "cell_type": "code",
      "source": [
        "show_sample(X_train, ['Label: %s' % label for label in Y_train])"
      ],
      "metadata": {
        "colab": {
          "base_uri": "https://localhost:8080/",
          "height": 589
        },
        "id": "QUIfUriaQNMW",
        "outputId": "17820219-976e-4055-ec60-21ceb8ddc828"
      },
      "execution_count": null,
      "outputs": [
        {
          "output_type": "display_data",
          "data": {
            "text/plain": [
              "<Figure size 720x720 with 25 Axes>"
            ],
            "image/png": "[encoded data removed]"
          },
          "metadata": {}
        }
      ]
    },
    {
      "cell_type": "markdown",
      "source": [
        "특정한 숫자(Digit) 만 25개 display 해 주는 함수 "
      ],
      "metadata": {
        "id": "GlKLW5qCRJmC"
      }
    },
    {
      "cell_type": "code",
      "source": [
        "def show_sample_digit(images, labels, digit, sample_count=25):\n",
        "  # Create a square with can fit {sample_count} images\n",
        "  grid_count = math.ceil(math.ceil(math.sqrt(sample_count)))\n",
        "  grid_count = min(grid_count, len(images), len(labels))\n",
        "\n",
        "  plt.figure(figsize=(2*grid_count, 2*grid_count))\n",
        "  i = 0 \n",
        "  digit_count = 0 \n",
        "  while digit_count < sample_count: \n",
        "      i += 1\n",
        "      if(digit == labels[i]):\n",
        "        plt.subplot(grid_count, grid_count, digit_count+1)\n",
        "        plt.xticks([])\n",
        "        plt.yticks([])\n",
        "        plt.grid(False)\n",
        "        plt.imshow(images[i], cmap=plt.cm.gray)\n",
        "        plt.xlabel(labels[i])\n",
        "        digit_count += 1\n",
        "  plt.show()"
      ],
      "metadata": {
        "id": "8uf4PU-vQoFK"
      },
      "execution_count": null,
      "outputs": []
    },
    {
      "cell_type": "code",
      "source": [
        "# training dataset에서 특정한 숫자(Digit)만 25개 Display 해 줍니다. \n",
        "show_sample_digit(X_train, Y_train, 3)"
      ],
      "metadata": {
        "colab": {
          "base_uri": "https://localhost:8080/",
          "height": 589
        },
        "id": "r5wlaJUnSWio",
        "outputId": "d503fd82-01b6-4245-cc7f-300469289f2d"
      },
      "execution_count": null,
      "outputs": [
        {
          "output_type": "display_data",
          "data": {
            "text/plain": [
              "<Figure size 720x720 with 25 Axes>"
            ],
            "image/png": "[encoded data removed]"
          },
          "metadata": {}
        }
      ]
    },
    {
      "cell_type": "code",
      "source": [
        "# 정규화 \n",
        "X_train = X_train.reshape(X_train.shape[0], 28, 28, 1).astype('float32') / 255\n",
        "X_test = X_test.reshape(X_test.shape[0], 28, 28, 1).astype('float32') / 255\n",
        "# 28, 28, 1 : 28*28, 1 channel(흑백), 3 channels (컬러: rgb)\n",
        "# astype('float32'): 정규화 위해 실수형으로 타입 변경 \n",
        "# 255 나눈 이유 : 0~1 사이로 스케일링 "
      ],
      "metadata": {
        "id": "az851RgPbP6t"
      },
      "execution_count": null,
      "outputs": []
    },
    {
      "cell_type": "code",
      "source": [
        "# 바이너리화 (one-hot encoding)\n",
        "Y_train = np_utils.to_categorical(Y_train, 10)\n",
        "Y_test = np_utils.to_categorical(Y_test, 10)\n",
        "# np 제공하는 to_categorical : one-hot encoding "
      ],
      "metadata": {
        "id": "VvLscx2jblMe"
      },
      "execution_count": null,
      "outputs": []
    },
    {
      "cell_type": "code",
      "source": [
        "# 모델 생성(프레임 설정) , 컨볼루션 신경망(CNN)\n",
        "model = Sequential()\n",
        "model.add(Conv2D(32, kernel_size=(3,3), input_shape = (28, 28, 1), activation='relu'))\n",
        "# 32 : mask 개수, kernel_size=(3,3) : kernel(윈도우) 필터 3*3 사용, input_shape 사용에 유의  \n",
        "model.add(Conv2D(64,(3,3), activation='relu'))\n",
        "model.add(MaxPooling2D(pool_size=2))\n",
        "# maxpooling 가장 큰 특징값(max) 추출(특성정보), pool_size = 2: 크기로 1/2 로 줄임 \n",
        "model.add(Dropout(0.25))\n",
        "# dropout : 은닉층의 연결층을 무작위(random)로 끊는다 >> 과적합 방지 \n",
        "model.add(Flatten())\n",
        "# flatten() : 1차원 차원 축소 (2차원 >> 1차원)\n",
        "model.add(Dense(128,  activation='relu'))\n",
        "model.add(Dense(10, activation = 'softmax')) \n",
        "# 출력결과가 10개 분류(0~9), 다중분류 : softmax \n"
      ],
      "metadata": {
        "id": "hTg8dfRjcP_9"
      },
      "execution_count": null,
      "outputs": []
    },
    {
      "cell_type": "code",
      "source": [
        "# 모델실행 환경설정 \n",
        "model.compile(loss = 'categorical_crossentropy',  # loss : cost function : 범주형 크로스엔트로피\n",
        "              optimizer = 'adam',                 # 최적화함수 : adam\n",
        "              metrics=['accuracy'])               # 측정지표 : 정확도 "
      ],
      "metadata": {
        "id": "wN5_owzzb3Jv"
      },
      "execution_count": null,
      "outputs": []
    },
    {
      "cell_type": "code",
      "source": [
        "# 모델 최적화 설정 \n",
        "MODEL_DIR = './model/' # 모델 디렉토리 생성(폴더)\n",
        "if not os.path.exists(MODEL_DIR):  # 모델 디렉토리에 폴더가 없다면, \n",
        "    os.mkdir(MODEL_DIR)            # 만들어 주세요(mkdir : make a directory)\n",
        "\n",
        "modelpath = \"./model/{epoch:02d}-{val_loss:.4f}.hdf5\"  # 모델 저장 경로 생성 \n",
        "checkpointer = ModelCheckpoint(filepath = modelpath, monitor ='val_loss',\n",
        "                               verbose=1, save_best_only=True)     \n",
        "# val_loss 를 monitoring 주시함. verbose: 결과 상황판, 성능이 나아진 것만 보기 \n",
        "early_stopping_callback = EarlyStopping(monitor ='val_loss', patience = 10 )\n",
        "# val_loss 를 monitoring 주시함. 성능이 x 이상 돌려서 나아지지 않으면 그만 둬(조기종료)"
      ],
      "metadata": {
        "id": "BYxPdTtseabv"
      },
      "execution_count": null,
      "outputs": []
    },
    {
      "cell_type": "code",
      "source": [
        "# 모델실행 (학습 : 훈련용 데이터 셋으로 하세요)\n",
        "history = model.fit(X_train, Y_train, validation_data=(X_test, Y_test),\n",
        "                    epochs=30, batch_size=200, verbose=1,\n",
        "                    callbacks=[early_stopping_callback, checkpointer])\n",
        "\n",
        "# 모델 학습 : fit , 훈련용 데이터로 함 \n",
        "# 검증 데이터(validation_data : 테스트 데이터 사용)\n",
        "# epochs : 반복횟수, batch_size : 샘플 200개 추출,  verbose: 훈련상황 보여줌 \n",
        "# callbacks : 조기종료, 성능개선 여부 확인 "
      ],
      "metadata": {
        "colab": {
          "base_uri": "https://localhost:8080/"
        },
        "id": "Ye63gttSfkxb",
        "outputId": "47b11f5c-6eb6-42fa-fdc4-7e2030468863"
      },
      "execution_count": null,
      "outputs": [
        {
          "output_type": "stream",
          "name": "stdout",
          "text": [
            "Epoch 1/30\n",
            "299/300 [============================>.] - ETA: 0s - loss: 0.1919 - accuracy: 0.9431\n",
            "Epoch 1: val_loss improved from inf to 0.05639, saving model to ./model/01-0.0564.hdf5\n",
            "300/300 [==============================] - 17s 24ms/step - loss: 0.1913 - accuracy: 0.9433 - val_loss: 0.0564 - val_accuracy: 0.9809\n",
            "Epoch 2/30\n",
            "298/300 [============================>.] - ETA: 0s - loss: 0.0524 - accuracy: 0.9837\n",
            "Epoch 2: val_loss improved from 0.05639 to 0.03949, saving model to ./model/02-0.0395.hdf5\n",
            "300/300 [==============================] - 8s 25ms/step - loss: 0.0525 - accuracy: 0.9837 - val_loss: 0.0395 - val_accuracy: 0.9857\n",
            "Epoch 3/30\n",
            "299/300 [============================>.] - ETA: 0s - loss: 0.0352 - accuracy: 0.9886\n",
            "Epoch 3: val_loss improved from 0.03949 to 0.03120, saving model to ./model/03-0.0312.hdf5\n",
            "300/300 [==============================] - 8s 26ms/step - loss: 0.0351 - accuracy: 0.9886 - val_loss: 0.0312 - val_accuracy: 0.9886\n",
            "Epoch 4/30\n",
            "299/300 [============================>.] - ETA: 0s - loss: 0.0255 - accuracy: 0.9919\n",
            "Epoch 4: val_loss did not improve from 0.03120\n",
            "300/300 [==============================] - 9s 29ms/step - loss: 0.0255 - accuracy: 0.9919 - val_loss: 0.0316 - val_accuracy: 0.9897\n",
            "Epoch 5/30\n",
            "300/300 [==============================] - ETA: 0s - loss: 0.0190 - accuracy: 0.9937\n",
            "Epoch 5: val_loss did not improve from 0.03120\n",
            "300/300 [==============================] - 8s 28ms/step - loss: 0.0190 - accuracy: 0.9937 - val_loss: 0.0332 - val_accuracy: 0.9896\n",
            "Epoch 6/30\n",
            "300/300 [==============================] - ETA: 0s - loss: 0.0156 - accuracy: 0.9948\n",
            "Epoch 6: val_loss improved from 0.03120 to 0.03062, saving model to ./model/06-0.0306.hdf5\n",
            "300/300 [==============================] - 8s 26ms/step - loss: 0.0156 - accuracy: 0.9948 - val_loss: 0.0306 - val_accuracy: 0.9906\n",
            "Epoch 7/30\n",
            "300/300 [==============================] - ETA: 0s - loss: 0.0125 - accuracy: 0.9955\n",
            "Epoch 7: val_loss improved from 0.03062 to 0.02960, saving model to ./model/07-0.0296.hdf5\n",
            "300/300 [==============================] - 8s 26ms/step - loss: 0.0125 - accuracy: 0.9955 - val_loss: 0.0296 - val_accuracy: 0.9906\n",
            "Epoch 8/30\n",
            "299/300 [============================>.] - ETA: 0s - loss: 0.0116 - accuracy: 0.9965\n",
            "Epoch 8: val_loss did not improve from 0.02960\n",
            "300/300 [==============================] - 7s 24ms/step - loss: 0.0115 - accuracy: 0.9965 - val_loss: 0.0308 - val_accuracy: 0.9904\n",
            "Epoch 9/30\n",
            "300/300 [==============================] - ETA: 0s - loss: 0.0081 - accuracy: 0.9976\n",
            "Epoch 9: val_loss did not improve from 0.02960\n",
            "300/300 [==============================] - 7s 23ms/step - loss: 0.0081 - accuracy: 0.9976 - val_loss: 0.0369 - val_accuracy: 0.9902\n",
            "Epoch 10/30\n",
            "300/300 [==============================] - ETA: 0s - loss: 0.0090 - accuracy: 0.9967\n",
            "Epoch 10: val_loss did not improve from 0.02960\n",
            "300/300 [==============================] - 7s 23ms/step - loss: 0.0090 - accuracy: 0.9967 - val_loss: 0.0359 - val_accuracy: 0.9895\n",
            "Epoch 11/30\n",
            "299/300 [============================>.] - ETA: 0s - loss: 0.0074 - accuracy: 0.9974\n",
            "Epoch 11: val_loss did not improve from 0.02960\n",
            "300/300 [==============================] - 7s 23ms/step - loss: 0.0074 - accuracy: 0.9974 - val_loss: 0.0323 - val_accuracy: 0.9900\n",
            "Epoch 12/30\n",
            "299/300 [============================>.] - ETA: 0s - loss: 0.0052 - accuracy: 0.9983\n",
            "Epoch 12: val_loss did not improve from 0.02960\n",
            "300/300 [==============================] - 7s 23ms/step - loss: 0.0052 - accuracy: 0.9983 - val_loss: 0.0346 - val_accuracy: 0.9911\n",
            "Epoch 13/30\n",
            "300/300 [==============================] - ETA: 0s - loss: 0.0049 - accuracy: 0.9982\n",
            "Epoch 13: val_loss did not improve from 0.02960\n",
            "300/300 [==============================] - 7s 23ms/step - loss: 0.0049 - accuracy: 0.9982 - val_loss: 0.0389 - val_accuracy: 0.9903\n",
            "Epoch 14/30\n",
            "300/300 [==============================] - ETA: 0s - loss: 0.0059 - accuracy: 0.9981\n",
            "Epoch 14: val_loss did not improve from 0.02960\n",
            "300/300 [==============================] - 7s 23ms/step - loss: 0.0059 - accuracy: 0.9981 - val_loss: 0.0384 - val_accuracy: 0.9899\n",
            "Epoch 15/30\n",
            "298/300 [============================>.] - ETA: 0s - loss: 0.0038 - accuracy: 0.9986\n",
            "Epoch 15: val_loss did not improve from 0.02960\n",
            "300/300 [==============================] - 7s 24ms/step - loss: 0.0038 - accuracy: 0.9987 - val_loss: 0.0399 - val_accuracy: 0.9891\n",
            "Epoch 16/30\n",
            "300/300 [==============================] - ETA: 0s - loss: 0.0052 - accuracy: 0.9983\n",
            "Epoch 16: val_loss did not improve from 0.02960\n",
            "300/300 [==============================] - 7s 23ms/step - loss: 0.0052 - accuracy: 0.9983 - val_loss: 0.0415 - val_accuracy: 0.9906\n",
            "Epoch 17/30\n",
            "300/300 [==============================] - ETA: 0s - loss: 0.0045 - accuracy: 0.9985\n",
            "Epoch 17: val_loss did not improve from 0.02960\n",
            "300/300 [==============================] - 8s 28ms/step - loss: 0.0045 - accuracy: 0.9985 - val_loss: 0.0393 - val_accuracy: 0.9915\n"
          ]
        }
      ]
    },
    {
      "cell_type": "code",
      "source": [
        "# 테스트 정확도 출력 \n",
        "print('\\n Test Accuracy: %.4f'%(model.evaluate(X_test, Y_test)[1]))"
      ],
      "metadata": {
        "colab": {
          "base_uri": "https://localhost:8080/"
        },
        "id": "vu28BO4-gaW-",
        "outputId": "43940359-1971-4048-fc3b-d708e5b96fdd"
      },
      "execution_count": null,
      "outputs": [
        {
          "output_type": "stream",
          "name": "stdout",
          "text": [
            "313/313 [==============================] - 3s 7ms/step - loss: 0.0393 - accuracy: 0.9915\n",
            "\n",
            " Test Accuracy: 0.9915\n"
          ]
        }
      ]
    },
    {
      "cell_type": "code",
      "source": [
        "model.evaluate(X_test, Y_test)[0]"
      ],
      "metadata": {
        "colab": {
          "base_uri": "https://localhost:8080/"
        },
        "id": "7Zy4gXWogabd",
        "outputId": "eb1432b3-8141-425e-af3a-e08e91cfe8c3"
      },
      "execution_count": null,
      "outputs": [
        {
          "output_type": "stream",
          "name": "stdout",
          "text": [
            "313/313 [==============================] - 2s 6ms/step - loss: 0.0393 - accuracy: 0.9915\n"
          ]
        },
        {
          "output_type": "execute_result",
          "data": {
            "text/plain": [
              "0.03928828611969948"
            ]
          },
          "metadata": {},
          "execution_count": 19
        }
      ]
    },
    {
      "cell_type": "code",
      "source": [
        "model.evaluate(X_test, Y_test)[1]"
      ],
      "metadata": {
        "colab": {
          "base_uri": "https://localhost:8080/"
        },
        "id": "_aZWVG8Agad0",
        "outputId": "5886246a-92d8-45ee-ee79-d3b6d0509e73"
      },
      "execution_count": null,
      "outputs": [
        {
          "output_type": "stream",
          "name": "stdout",
          "text": [
            "313/313 [==============================] - 2s 7ms/step - loss: 0.0393 - accuracy: 0.9915\n"
          ]
        },
        {
          "output_type": "execute_result",
          "data": {
            "text/plain": [
              "0.9915000200271606"
            ]
          },
          "metadata": {},
          "execution_count": 20
        }
      ]
    },
    {
      "cell_type": "code",
      "source": [
        "# 테스트 셋의 오차 \n",
        "y_vloss = history.history['val_loss']"
      ],
      "metadata": {
        "id": "K3m4YTB0iN8K"
      },
      "execution_count": null,
      "outputs": []
    },
    {
      "cell_type": "code",
      "source": [
        "# 학습용 셋의 오차 \n",
        "y_loss = history.history['loss']"
      ],
      "metadata": {
        "id": "6HmOBN54idBf"
      },
      "execution_count": null,
      "outputs": []
    },
    {
      "cell_type": "code",
      "source": [
        "# 그래프로 표현 \n",
        "x_len = np.arange(len(y_loss))\n",
        "plt.plot(x_len, y_vloss, marker= '.', c = 'red', label = 'Testset_loss')\n",
        "plt.plot(x_len, y_loss, marker= '.', c = 'blue', label = 'Trainset_loss')"
      ],
      "metadata": {
        "colab": {
          "base_uri": "https://localhost:8080/",
          "height": 287
        },
        "id": "SlsABdSRihPQ",
        "outputId": "e01e18e4-2156-471d-e68f-a148565ef427"
      },
      "execution_count": null,
      "outputs": [
        {
          "output_type": "execute_result",
          "data": {
            "text/plain": [
              "[<matplotlib.lines.Line2D at 0x7fd6a0678550>]"
            ]
          },
          "metadata": {},
          "execution_count": 23
        },
        {
          "output_type": "display_data",
          "data": {
            "text/plain": [
              "<Figure size 432x288 with 1 Axes>"
            ],
            "image/png": "[encoded data removed]"
          },
          "metadata": {
            "needs_background": "light"
          }
        }
      ]
    },
    {
      "cell_type": "code",
      "source": [
        "# 그래프로 표현 \n",
        "x_len = np.arange(len(y_loss))\n",
        "plt.plot(x_len, y_vloss, marker= '.', c = 'red', label = 'Testset_loss')\n",
        "plt.plot(x_len, y_loss, marker= '.', c = 'blue', label = 'Trainset_loss')\n",
        "\n",
        "# 격자무늬 추가, 레이블 표시 \n",
        "plt.legend(loc = 'upper right')\n",
        "plt.grid()\n",
        "plt.xlabel('epoch')\n",
        "plt.ylabel('loss')\n",
        "plt.show()"
      ],
      "metadata": {
        "colab": {
          "base_uri": "https://localhost:8080/",
          "height": 283
        },
        "id": "yKxapp1Pi5D0",
        "outputId": "57db287b-77b9-46d3-95e4-2962041bb7cc"
      },
      "execution_count": null,
      "outputs": [
        {
          "output_type": "display_data",
          "data": {
            "text/plain": [
              "<Figure size 432x288 with 1 Axes>"
            ],
            "image/png": "[encoded data removed]"
          },
          "metadata": {
            "needs_background": "light"
          }
        }
      ]
    },
    {
      "cell_type": "code",
      "source": [
        "prediction = model.predict(X_test)\n",
        "prediction "
      ],
      "metadata": {
        "id": "4-L1IewsjBeA",
        "colab": {
          "base_uri": "https://localhost:8080/"
        },
        "outputId": "a6e700a2-00d6-4e24-c11a-a049a1a3ba2b"
      },
      "execution_count": null,
      "outputs": [
        {
          "output_type": "execute_result",
          "data": {
            "text/plain": [
              "array([[1.48417062e-14, 3.13832314e-14, 3.91149380e-13, ...,\n",
              "        1.00000000e+00, 2.60451692e-18, 1.04852345e-14],\n",
              "       [6.88163278e-15, 1.54265609e-12, 1.00000000e+00, ...,\n",
              "        2.47174492e-19, 8.88924799e-20, 8.34793178e-21],\n",
              "       [8.83552231e-10, 1.00000000e+00, 6.01908523e-11, ...,\n",
              "        7.99413247e-09, 2.24651209e-09, 1.54958240e-13],\n",
              "       ...,\n",
              "       [2.93375962e-18, 3.96118796e-17, 1.29233312e-18, ...,\n",
              "        2.13536884e-13, 2.08891626e-10, 5.10482767e-10],\n",
              "       [1.11937710e-18, 4.19984865e-20, 1.98807997e-20, ...,\n",
              "        7.62065342e-20, 2.98736834e-11, 7.83672205e-19],\n",
              "       [1.07444478e-15, 2.52111920e-20, 2.11451420e-15, ...,\n",
              "        8.48095192e-27, 1.73992267e-15, 7.90634658e-21]], dtype=float32)"
            ]
          },
          "metadata": {},
          "execution_count": 25
        }
      ]
    },
    {
      "cell_type": "code",
      "source": [
        "prediction.shape, prediction.dtype"
      ],
      "metadata": {
        "colab": {
          "base_uri": "https://localhost:8080/"
        },
        "id": "ZXYAHqyGUjoc",
        "outputId": "b17b6369-bb91-4c21-d2b9-a1d61ecdcfd4"
      },
      "execution_count": null,
      "outputs": [
        {
          "output_type": "execute_result",
          "data": {
            "text/plain": [
              "((10000, 10), dtype('float32'))"
            ]
          },
          "metadata": {},
          "execution_count": 34
        }
      ]
    },
    {
      "cell_type": "code",
      "source": [
        "# 예측 결과 중에서 특정한 숫자(digit)의 이미지와 예측한 label 을 Display 합니다.\n",
        "selected_digit = 0\n",
        "\n",
        "result = prediction[selected_digit]\n",
        "result_number = np.argmax(result)\n",
        "print('Number is %2i' % (result_number))"
      ],
      "metadata": {
        "colab": {
          "base_uri": "https://localhost:8080/"
        },
        "id": "fphpUO1uT8ia",
        "outputId": "24980a28-e6dd-47da-ca5b-c8fed4f73eb8"
      },
      "execution_count": null,
      "outputs": [
        {
          "output_type": "stream",
          "name": "stdout",
          "text": [
            "Number is  7\n"
          ]
        }
      ]
    },
    {
      "cell_type": "code",
      "source": [
        ""
      ],
      "metadata": {
        "id": "3D_rLEF3T8kq"
      },
      "execution_count": null,
      "outputs": []
    }
  ]
}