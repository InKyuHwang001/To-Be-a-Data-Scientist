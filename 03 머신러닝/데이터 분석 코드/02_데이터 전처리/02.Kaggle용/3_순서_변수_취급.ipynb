{
  "nbformat": 4,
  "nbformat_minor": 0,
  "metadata": {
    "colab": {
      "provenance": []
    },
    "kernelspec": {
      "name": "python3",
      "display_name": "Python 3"
    },
    "language_info": {
      "name": "python"
    }
  },
  "cells": [
    {
      "cell_type": "markdown",
      "source": [
        "- 순서변수에서 값의 간격은 무의미하다.\n",
        "- 서열을 정수로 치환하여 **수치형 변수**로 다룰 수 있다.\n",
        "- **범주형 변수**로 볼수도 있다."
      ],
      "metadata": {
        "id": "_G3sAwDAYrD7"
      }
    }
  ]
}