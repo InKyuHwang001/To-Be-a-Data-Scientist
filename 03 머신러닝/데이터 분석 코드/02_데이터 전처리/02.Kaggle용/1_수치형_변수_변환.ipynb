{
  "nbformat": 4,
  "nbformat_minor": 0,
  "metadata": {
    "colab": {
      "provenance": [],
      "toc_visible": true
    },
    "kernelspec": {
      "name": "python3",
      "display_name": "Python 3"
    },
    "language_info": {
      "name": "python"
    }
  },
  "cells": [
    {
      "cell_type": "code",
      "source": [
        "import numpy as np\n",
        "import pandas as pd"
      ],
      "metadata": {
        "id": "WjEdYPfjKrju"
      },
      "execution_count": 6,
      "outputs": []
    },
    {
      "cell_type": "markdown",
      "source": [
        "# 1.표준화"
      ],
      "metadata": {
        "id": "zNOCBnpqGdt5"
      }
    },
    {
      "cell_type": "markdown",
      "source": [
        "- 가장 기본적인 방법\n"
      ],
      "metadata": {
        "id": "GKaSj_RfGgqb"
      }
    },
    {
      "cell_type": "markdown",
      "source": [
        "## 1.1.학습데이터로 평균과 분산을 구한 후"
      ],
      "metadata": {
        "id": "TQ9cbHqaIK2e"
      }
    },
    {
      "cell_type": "code",
      "execution_count": 4,
      "metadata": {
        "id": "-RYU7P-TGS-b"
      },
      "outputs": [],
      "source": [
        "from sklearn.preprocessing import StandardScaler\n",
        "\n",
        "# 학습 데이터를 기반으로 복수 열의 표준화를 정의(평균 0, 표준편차 1)\n",
        "scaler = StandardScaler()\n",
        "scaler.fit(train_x[num_cols])\n",
        "\n",
        "# 표준화를 수행한 후 각 열을 치환\n",
        "train_x[num_cols] = scaler.transform(train_x[num_cols])\n",
        "test_x[num_cols] = scaler.transform(test_x[num_cols])"
      ]
    },
    {
      "cell_type": "markdown",
      "source": [
        "## 1.2.학습 테스트 결합후 평균과 분산을 계산 후"
      ],
      "metadata": {
        "id": "L-uPUEC3Ioef"
      }
    },
    {
      "cell_type": "code",
      "source": [
        "from sklearn.preprocessing import StandardScaler\n",
        "\n",
        "# 학습 데이터와 테스트 데이터를 결합한 결과를 기반으로 복수 열의 표준화를 정의\n",
        "scaler = StandardScaler()\n",
        "scaler.fit(pd.concat([train_x[num_cols], test_x[num_cols]]))\n",
        "\n",
        "# 표준화 변환 후 데이터로 각 열을 치환\n",
        "train_x[num_cols] = scaler.transform(train_x[num_cols])\n",
        "test_x[num_cols] = scaler.transform(test_x[num_cols])"
      ],
      "metadata": {
        "id": "h09Igl4SGwCG"
      },
      "execution_count": null,
      "outputs": []
    },
    {
      "cell_type": "markdown",
      "source": [
        "# 2.최소-최대 스케일링\n",
        "- 이미지 데이터의 각 픽셀은 0~255로 범위가 정해져 있기에 자연스럽다.\n",
        "- 다른 변수의 경우 변환 후 평균이 0이 되지 않고 이상치에 영향을 받기 더 쉽다는 단점이 있다."
      ],
      "metadata": {
        "id": "YWyX4wVxI7IJ"
      }
    },
    {
      "cell_type": "code",
      "source": [
        "from sklearn.preprocessing import MinMaxScaler\n",
        "\n",
        "# 학습 데이터를 기반으로 여러 열의 최소-최대 스케일링 정의\n",
        "scaler = MinMaxScaler()\n",
        "scaler.fit(train_x[num_cols])\n",
        "\n",
        "# 정규화(0~1) 변환 후의 데이터로 각 열을 치환\n",
        "train_x[num_cols] = scaler.transform(train_x[num_cols])\n",
        "test_x[num_cols] = scaler.transform(test_x[num_cols])"
      ],
      "metadata": {
        "id": "4LruUcaFJ85Z"
      },
      "execution_count": null,
      "outputs": []
    },
    {
      "cell_type": "markdown",
      "source": [
        "# 3.비선형변환"
      ],
      "metadata": {
        "id": "ZWfeXOYbKJNa"
      }
    },
    {
      "cell_type": "markdown",
      "source": [
        "- 분포 형태가 치우친 경우"
      ],
      "metadata": {
        "id": "5FNGF7q8KzES"
      }
    },
    {
      "cell_type": "markdown",
      "source": [
        "## 3.1.로그변환, log(x+1)변환, 절대값 로그 변환"
      ],
      "metadata": {
        "id": "j9rgPT28KMhF"
      }
    },
    {
      "cell_type": "code",
      "source": [
        "x = np.array([1.0, 10.0, 100.0, 1000.0, 10000.0])\n",
        "\n",
        "# 단순히 값에 로그를 취함\n",
        "x1 = np.log(x)\n",
        "\n",
        "# 1을 더한 뒤에 로그를 취함\n",
        "x2 = np.log1p(x)\n",
        "\n",
        "# 절댓값의 로그를 취한 후, 원래의 부호를 추가\n",
        "x3 = np.sign(x) * np.log(np.abs(x))"
      ],
      "metadata": {
        "id": "IFh2Bw9yKAZ2"
      },
      "execution_count": 7,
      "outputs": []
    },
    {
      "cell_type": "markdown",
      "source": [
        "## 3.2.박스-칵스 변환, 여-존슨 변환"
      ],
      "metadata": {
        "id": "6bBpgFg1K7qm"
      }
    },
    {
      "cell_type": "markdown",
      "source": [
        "람다 값에 따라 외도를 조정한다.\n",
        "- 람다\n",
        "  - =2: 제곱함수\n",
        "  - =0.5: 루트변환\n",
        "  - =0: 로그변환\n",
        "  - =-1: 역수 변환 "
      ],
      "metadata": {
        "id": "tzru8lMaOUoE"
      }
    },
    {
      "cell_type": "code",
      "source": [
        "# Box-Cox 변환\n",
        "# -----------------------------------\n",
        "# 데이터 읽어오기\n",
        "train_x, test_x = load_data()\n",
        "# -----------------------------------\n",
        "\n",
        "# 양의 정숫값만을 취하는 변수를 변환 대상으로 목록에 저장\n",
        "# 또한, 결측값을 포함하는 경우는 (~(train_x[c] <= 0.0)).all() 등으로 해야 하므로 주의\n",
        "pos_cols = [c for c in num_cols if (train_x[c] > 0.0).all() and (test_x[c] > 0.0).all()]\n",
        "\n",
        "from sklearn.preprocessing import PowerTransformer\n",
        "\n",
        "# 학습 데이터를 기반으로 복수 열의 박스-칵스 변환 정의\n",
        "pt = PowerTransformer(method='box-cox')\n",
        "pt.fit(train_x[pos_cols])\n",
        "\n",
        "# 변환 후의 데이터로 각 열을 치환\n",
        "train_x[pos_cols] = pt.transform(train_x[pos_cols])\n",
        "test_x[pos_cols] = pt.transform(test_x[pos_cols])\n",
        "\n",
        "# -----------------------------------\n",
        "# Yeo-Johnson변환\n",
        "\n",
        "# -----------------------------------\n",
        "# 데이터 읽어오기\n",
        "train_x, test_x = load_data()\n",
        "# -----------------------------------\n",
        "\n",
        "from sklearn.preprocessing import PowerTransformer\n",
        "\n",
        "# 학습 데이터를 기반으로 복수 열의 여-존슨 변환 정의\n",
        "pt = PowerTransformer(method='yeo-johnson')\n",
        "pt.fit(train_x[num_cols])\n",
        "\n",
        "# 변환 후의 데이터로 각 열을 치환\n",
        "train_x[num_cols] = pt.transform(train_x[num_cols])\n",
        "test_x[num_cols] = pt.transform(test_x[num_cols])"
      ],
      "metadata": {
        "id": "ZHa4h2WWKikd"
      },
      "execution_count": null,
      "outputs": []
    },
    {
      "cell_type": "markdown",
      "source": [
        "# 4.클리핑"
      ],
      "metadata": {
        "id": "UP7wkB8SMPcF"
      }
    },
    {
      "cell_type": "markdown",
      "source": [
        "- 범위를 벗어난 값을 상한값과 하한값으로 치환 "
      ],
      "metadata": {
        "id": "YuRv4i51MYUt"
      }
    },
    {
      "cell_type": "code",
      "source": [
        "train_x, test_x = load_data()\n",
        "# -----------------------------------\n",
        "# 열마다 학습 데이터의 1%, 99% 지점을 확인\n",
        "p01 = train_x[num_cols].quantile(0.01)\n",
        "p99 = train_x[num_cols].quantile(0.99)\n",
        "\n",
        "# 1％점 이하의 값은 1%점으로, 99%점 이상의 값은 99%점으로 클리핑\n",
        "train_x[num_cols] = train_x[num_cols].clip(p01, p99, axis=1)\n",
        "test_x[num_cols] = test_x[num_cols].clip(p01, p99, axis=1)"
      ],
      "metadata": {
        "id": "TahRxuU7MYEm"
      },
      "execution_count": null,
      "outputs": []
    },
    {
      "cell_type": "markdown",
      "source": [
        "# 5.구간분할"
      ],
      "metadata": {
        "id": "2W3AGhbrMiN7"
      }
    },
    {
      "cell_type": "markdown",
      "source": [
        "- 구간분할은 수치형을 범주형으로 변환하는 방법"
      ],
      "metadata": {
        "id": "22FW7TtrMzsL"
      }
    },
    {
      "cell_type": "code",
      "source": [
        "x = [1, 7, 5, 4, 6, 3]\n",
        "\n",
        "# 팬더스 라이브러리의 cut 함수로 구간분할 수행\n",
        "\n",
        "# bin의 수를 지정할 경우\n",
        "binned = pd.cut(x, 3, labels=False)\n",
        "print(binned)\n",
        "# [0 2 1 1 2 0] - 변환된 값은 세 구간(0, 1, 2)를 만들고 원본 x의 값이 어디에 해당되는지 나타냄\n",
        "\n",
        "# bin의 범위를 지정할 경우(3.0 이하, 3.0보다 크고 5.0보다 이하, 5.0보다 큼)\n",
        "bin_edges = [-float('inf'), 3.0, 5.0, float('inf')]\n",
        "binned = pd.cut(x, bin_edges, labels=False)\n",
        "print(binned)\n",
        "# [0 2 1 1 2 0] - 변환된 값은 세 구간을 만들고 원본 x의 값이 어디에 해당되는지 나타냄"
      ],
      "metadata": {
        "colab": {
          "base_uri": "https://localhost:8080/"
        },
        "id": "dUPP34CQMVsK",
        "outputId": "74881301-ba12-4cec-dfd0-4fed2ad7da91"
      },
      "execution_count": 8,
      "outputs": [
        {
          "output_type": "stream",
          "name": "stdout",
          "text": [
            "[0 2 1 1 2 0]\n",
            "[0 2 1 1 2 0]\n"
          ]
        }
      ]
    },
    {
      "cell_type": "markdown",
      "source": [
        "# 6.순위로 변환"
      ],
      "metadata": {
        "id": "yE7OwhQVNBYS"
      }
    },
    {
      "cell_type": "markdown",
      "source": [
        "- 수치형 변수를 대소 관계에 따른 순위로 변환하는 방법"
      ],
      "metadata": {
        "id": "n9cTWHAwNGOq"
      }
    },
    {
      "cell_type": "code",
      "source": [
        "x = [10, 20, 30, 0, 40, 40]\n",
        "\n",
        "# 팬더스의 rank 함수로 순위 변환\n",
        "rank = pd.Series(x).rank()\n",
        "print(rank.values)\n",
        "# 시작이 1, 같은 순위가 있을 경우에는 평균 순위가 됨\n",
        "# [2. 3. 4. 1. 5.5 5.5]\n",
        "\n",
        "# 넘파이의 argsort 함수를 2회 적용하는 방법으로 순위 변환\n",
        "order = np.argsort(x)\n",
        "rank = np.argsort(order)\n",
        "print(rank)\n",
        "# 넘파이의 argsort 함수를 2회 적용하는 방법으로 순위 변환\n",
        "# [1 2 3 0 4 5]"
      ],
      "metadata": {
        "colab": {
          "base_uri": "https://localhost:8080/"
        },
        "id": "74fmogBtM-kH",
        "outputId": "999e9347-5d30-4186-b4b6-8b5f2f969180"
      },
      "execution_count": 9,
      "outputs": [
        {
          "output_type": "stream",
          "name": "stdout",
          "text": [
            "[2.  3.  4.  1.  5.5 5.5]\n",
            "[1 2 3 0 4 5]\n"
          ]
        }
      ]
    },
    {
      "cell_type": "markdown",
      "source": [
        "# 7.RankGauss"
      ],
      "metadata": {
        "id": "HtzaoDj4Na93"
      }
    },
    {
      "cell_type": "markdown",
      "source": [
        "수치형 변수를 순위로 변환한뒤 **반강제로 정규분포**가 되도록 변환하는 방법\n",
        "- 신경망에서 모델을 구축할 때 좋은 성능\n"
      ],
      "metadata": {
        "id": "Kt9d-V-UNibO"
      }
    },
    {
      "cell_type": "code",
      "source": [
        "from sklearn.preprocessing import QuantileTransformer\n",
        "\n",
        "# 학습 데이터를 기반으로 복수 열의 RankGauss를 통한 변환 정의\n",
        "transformer = QuantileTransformer(n_quantiles=100, random_state=0, output_distribution='normal')\n",
        "transformer.fit(train_x[num_cols])\n",
        "\n",
        "# 변환 후의 데이터로 각 열을 치환\n",
        "train_x[num_cols] = transformer.transform(train_x[num_cols])\n",
        "test_x[num_cols] = transformer.transform(test_x[num_cols])"
      ],
      "metadata": {
        "id": "kxR-xsnZNY_-"
      },
      "execution_count": null,
      "outputs": []
    }
  ]
}