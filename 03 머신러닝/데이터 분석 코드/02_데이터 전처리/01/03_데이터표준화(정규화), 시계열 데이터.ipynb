{
  "nbformat": 4,
  "nbformat_minor": 0,
  "metadata": {
    "colab": {
      "name": "03.데이터표준화(정규화), 시계열데이터.ipynb",
      "provenance": []
    },
    "kernelspec": {
      "name": "python3",
      "display_name": "Python 3"
    },
    "language_info": {
      "name": "python"
    },
    "accelerator": "GPU",
    "gpuClass": "standard"
  },
  "cells": [
    {
      "cell_type": "markdown",
      "source": [
        "# 01.정규화\n"
      ],
      "metadata": {
        "id": "YePkBUM8u2Qy"
      }
    },
    {
      "cell_type": "markdown",
      "source": [
        "## 01)Max로 나누기"
      ],
      "metadata": {
        "id": "Y7CFNbTSv4NV"
      }
    },
    {
      "cell_type": "code",
      "execution_count": 1,
      "metadata": {
        "id": "OBT4VsrGu1Lt"
      },
      "outputs": [],
      "source": [
        "import pandas as pd\n",
        "import numpy as np\n",
        "\n",
        "df = pd.read_csv('/content/auto-mpg.csv', header=None)\n",
        "df.columns = ['mpg','cylinders','displacement','horsepower','weight',\n",
        "              'acceleration','model year','origin','name'] \n",
        "\n",
        "df['horsepower'].replace('?', np.nan, inplace=True)      # '?'을 np.nan으로 변경\n",
        "df.dropna(subset=['horsepower'], axis=0, inplace=True)   # 누락데이터 행을 삭제\n",
        "df['horsepower'] = df['horsepower'].astype('float')      # 문자열을 실수형으로 변환"
      ]
    },
    {
      "cell_type": "code",
      "source": [
        "# horsepower 열의 통계 요약정보로 최대값(max)을 확인\n",
        "print(df.horsepower.describe())\n",
        "print('\\n')\n",
        "\n",
        "# horsepower 열의 최대값의 절대값으로 모든 데이터를 나눠서 저장\n",
        "df.horsepower = df.horsepower / abs(df.horsepower.max()) \n",
        "\n",
        "print(df.horsepower.head())\n",
        "print('\\n')\n",
        "print(df.horsepower.describe())"
      ],
      "metadata": {
        "colab": {
          "base_uri": "https://localhost:8080/"
        },
        "id": "EDcq1IiVvl91",
        "outputId": "8995d2e9-eb67-4c80-fdae-07394bbeb586"
      },
      "execution_count": 2,
      "outputs": [
        {
          "output_type": "stream",
          "name": "stdout",
          "text": [
            "count    392.000000\n",
            "mean     104.469388\n",
            "std       38.491160\n",
            "min       46.000000\n",
            "25%       75.000000\n",
            "50%       93.500000\n",
            "75%      126.000000\n",
            "max      230.000000\n",
            "Name: horsepower, dtype: float64\n",
            "\n",
            "\n",
            "0    0.565217\n",
            "1    0.717391\n",
            "2    0.652174\n",
            "3    0.652174\n",
            "4    0.608696\n",
            "Name: horsepower, dtype: float64\n",
            "\n",
            "\n",
            "count    392.000000\n",
            "mean       0.454215\n",
            "std        0.167353\n",
            "min        0.200000\n",
            "25%        0.326087\n",
            "50%        0.406522\n",
            "75%        0.547826\n",
            "max        1.000000\n",
            "Name: horsepower, dtype: float64\n"
          ]
        }
      ]
    },
    {
      "cell_type": "markdown",
      "source": [
        "## 02)min max scalling"
      ],
      "metadata": {
        "id": "yLTuHTYWv8Bd"
      }
    },
    {
      "cell_type": "code",
      "source": [
        "import pandas as pd\n",
        "import numpy as np\n",
        "\n",
        "df = pd.read_csv('/content/auto-mpg.csv', header=None)\n",
        "df.columns = ['mpg','cylinders','displacement','horsepower','weight',\n",
        "              'acceleration','model year','origin','name'] \n",
        "\n",
        "df['horsepower'].replace('?', np.nan, inplace=True)      # '?'을 np.nan으로 변경\n",
        "df.dropna(subset=['horsepower'], axis=0, inplace=True)   # 누락데이터 행을 삭제\n",
        "df['horsepower'] = df['horsepower'].astype('float')      # 문자열을 실수형으로 변환"
      ],
      "metadata": {
        "id": "_LRvlwfIwPDl"
      },
      "execution_count": 4,
      "outputs": []
    },
    {
      "cell_type": "code",
      "source": [
        "# horsepower 열의 통계 요약정보로 최대값(max)과 최소값(min)을 확인\n",
        "print(df.horsepower.describe())\n",
        "print('\\n')\n",
        "\n",
        "# horsepower 열의 최대값의 절대값으로 모든 데이터를 나눠서 저장\n",
        "min_x = df.horsepower - df.horsepower.min()\n",
        "min_max = df.horsepower.max() - df.horsepower.min()\n",
        "df.horsepower = min_x / min_max\n",
        "\n",
        "print(df.horsepower.head())\n",
        "print('\\n')\n",
        "print(df.horsepower.describe())"
      ],
      "metadata": {
        "colab": {
          "base_uri": "https://localhost:8080/"
        },
        "id": "zKi7RnL1v3zp",
        "outputId": "9bda83cf-a2d5-4c19-f34a-96db4397db5c"
      },
      "execution_count": 5,
      "outputs": [
        {
          "output_type": "stream",
          "name": "stdout",
          "text": [
            "count    392.000000\n",
            "mean     104.469388\n",
            "std       38.491160\n",
            "min       46.000000\n",
            "25%       75.000000\n",
            "50%       93.500000\n",
            "75%      126.000000\n",
            "max      230.000000\n",
            "Name: horsepower, dtype: float64\n",
            "\n",
            "\n",
            "0    0.456522\n",
            "1    0.646739\n",
            "2    0.565217\n",
            "3    0.565217\n",
            "4    0.510870\n",
            "Name: horsepower, dtype: float64\n",
            "\n",
            "\n",
            "count    392.000000\n",
            "mean       0.317768\n",
            "std        0.209191\n",
            "min        0.000000\n",
            "25%        0.157609\n",
            "50%        0.258152\n",
            "75%        0.434783\n",
            "max        1.000000\n",
            "Name: horsepower, dtype: float64\n"
          ]
        }
      ]
    },
    {
      "cell_type": "markdown",
      "source": [
        "# 02.시계열 데이터"
      ],
      "metadata": {
        "id": "j8ID5FfswfRP"
      }
    },
    {
      "cell_type": "markdown",
      "source": [
        "## 01)다은 자료형을 시계열 객체로 변환"
      ],
      "metadata": {
        "id": "NgEDbV43xS2Y"
      }
    },
    {
      "cell_type": "code",
      "source": [
        "df = pd.read_csv('/content/stock-data.csv')\n",
        "\n",
        "# 데이터 내용 및 자료형 자료형 확인\n",
        "print(df.head())\n",
        "print('\\n')\n",
        "print(df.info())"
      ],
      "metadata": {
        "colab": {
          "base_uri": "https://localhost:8080/"
        },
        "id": "Lel_h5pjwGP3",
        "outputId": "7a53af4f-aa77-4e29-c0dd-c99c14228d03"
      },
      "execution_count": 6,
      "outputs": [
        {
          "output_type": "stream",
          "name": "stdout",
          "text": [
            "         Date  Close  Start   High    Low  Volume\n",
            "0  2018-07-02  10100  10850  10900  10000  137977\n",
            "1  2018-06-29  10700  10550  10900   9990  170253\n",
            "2  2018-06-28  10400  10900  10950  10150  155769\n",
            "3  2018-06-27  10900  10800  11050  10500  133548\n",
            "4  2018-06-26  10800  10900  11000  10700   63039\n",
            "\n",
            "\n",
            "<class 'pandas.core.frame.DataFrame'>\n",
            "RangeIndex: 20 entries, 0 to 19\n",
            "Data columns (total 6 columns):\n",
            " #   Column  Non-Null Count  Dtype \n",
            "---  ------  --------------  ----- \n",
            " 0   Date    20 non-null     object\n",
            " 1   Close   20 non-null     int64 \n",
            " 2   Start   20 non-null     int64 \n",
            " 3   High    20 non-null     int64 \n",
            " 4   Low     20 non-null     int64 \n",
            " 5   Volume  20 non-null     int64 \n",
            "dtypes: int64(5), object(1)\n",
            "memory usage: 1.1+ KB\n",
            "None\n"
          ]
        }
      ]
    },
    {
      "cell_type": "code",
      "source": [
        "# 문자열 데이터(시리즈 객체)를 판다스 Timestamp로 변환\n",
        "df['new_Date'] = pd.to_datetime(df['Date'])   #df에 새로운 열로 추가\n",
        "\n",
        "# 데이터 내용 및 자료형 자료형 확인\n",
        "print(df.head())\n",
        "print('\\n')\n",
        "print(df.info())\n",
        "print('\\n')\n",
        "print(type(df['new_Date'][0]))"
      ],
      "metadata": {
        "colab": {
          "base_uri": "https://localhost:8080/"
        },
        "id": "3KhD1zFOwxyD",
        "outputId": "27c2696f-2b25-4df4-938a-6690794814da"
      },
      "execution_count": 7,
      "outputs": [
        {
          "output_type": "stream",
          "name": "stdout",
          "text": [
            "         Date  Close  Start   High    Low  Volume   new_Date\n",
            "0  2018-07-02  10100  10850  10900  10000  137977 2018-07-02\n",
            "1  2018-06-29  10700  10550  10900   9990  170253 2018-06-29\n",
            "2  2018-06-28  10400  10900  10950  10150  155769 2018-06-28\n",
            "3  2018-06-27  10900  10800  11050  10500  133548 2018-06-27\n",
            "4  2018-06-26  10800  10900  11000  10700   63039 2018-06-26\n",
            "\n",
            "\n",
            "<class 'pandas.core.frame.DataFrame'>\n",
            "RangeIndex: 20 entries, 0 to 19\n",
            "Data columns (total 7 columns):\n",
            " #   Column    Non-Null Count  Dtype         \n",
            "---  ------    --------------  -----         \n",
            " 0   Date      20 non-null     object        \n",
            " 1   Close     20 non-null     int64         \n",
            " 2   Start     20 non-null     int64         \n",
            " 3   High      20 non-null     int64         \n",
            " 4   Low       20 non-null     int64         \n",
            " 5   Volume    20 non-null     int64         \n",
            " 6   new_Date  20 non-null     datetime64[ns]\n",
            "dtypes: datetime64[ns](1), int64(5), object(1)\n",
            "memory usage: 1.2+ KB\n",
            "None\n",
            "\n",
            "\n",
            "<class 'pandas._libs.tslibs.timestamps.Timestamp'>\n"
          ]
        }
      ]
    },
    {
      "cell_type": "code",
      "source": [
        "# 시계열 값으로 변환된 열을 새로운 행 인덱스로 지정. 기존 날짜 열은 삭제\n",
        "df.set_index('new_Date', inplace=True)\n",
        "df.drop('Date', axis=1, inplace=True)\n",
        "\n",
        "# 데이터 내용 및 자료형 자료형 확인\n",
        "print(df.head())\n",
        "print('\\n')\n",
        "print(df.info())"
      ],
      "metadata": {
        "colab": {
          "base_uri": "https://localhost:8080/"
        },
        "id": "e-TncZaQw5WN",
        "outputId": "ed48b269-5b5c-47ca-ecfe-3a1cd42c5189"
      },
      "execution_count": 8,
      "outputs": [
        {
          "output_type": "stream",
          "name": "stdout",
          "text": [
            "            Close  Start   High    Low  Volume\n",
            "new_Date                                      \n",
            "2018-07-02  10100  10850  10900  10000  137977\n",
            "2018-06-29  10700  10550  10900   9990  170253\n",
            "2018-06-28  10400  10900  10950  10150  155769\n",
            "2018-06-27  10900  10800  11050  10500  133548\n",
            "2018-06-26  10800  10900  11000  10700   63039\n",
            "\n",
            "\n",
            "<class 'pandas.core.frame.DataFrame'>\n",
            "DatetimeIndex: 20 entries, 2018-07-02 to 2018-06-01\n",
            "Data columns (total 5 columns):\n",
            " #   Column  Non-Null Count  Dtype\n",
            "---  ------  --------------  -----\n",
            " 0   Close   20 non-null     int64\n",
            " 1   Start   20 non-null     int64\n",
            " 2   High    20 non-null     int64\n",
            " 3   Low     20 non-null     int64\n",
            " 4   Volume  20 non-null     int64\n",
            "dtypes: int64(5)\n",
            "memory usage: 960.0 bytes\n",
            "None\n"
          ]
        }
      ]
    },
    {
      "cell_type": "code",
      "source": [
        "# 날짜 형식의 문자열로 구성되는 리스트 정의\n",
        "dates = ['2019-01-01', '2020-03-01', '2021-06-01']\n",
        "\n",
        "# 문자열 데이터(시리즈 객체)를 판다스 Timestamp로 변환\n",
        "ts_dates = pd.to_datetime(dates)   \n",
        "print(ts_dates)\n",
        "print('\\n')\n",
        "\n",
        "# Timestamp를 Period로 변환\n",
        "pr_day = ts_dates.to_period(freq='D')\n",
        "print(pr_day)\n",
        "pr_month = ts_dates.to_period(freq='M')\n",
        "print(pr_month)\n",
        "pr_year = ts_dates.to_period(freq='A')\n",
        "print(pr_year)"
      ],
      "metadata": {
        "colab": {
          "base_uri": "https://localhost:8080/"
        },
        "id": "DXRoXcoew8bR",
        "outputId": "9d2be799-066e-4f75-b610-85f778ba3b38"
      },
      "execution_count": 9,
      "outputs": [
        {
          "output_type": "stream",
          "name": "stdout",
          "text": [
            "DatetimeIndex(['2019-01-01', '2020-03-01', '2021-06-01'], dtype='datetime64[ns]', freq=None)\n",
            "\n",
            "\n",
            "PeriodIndex(['2019-01-01', '2020-03-01', '2021-06-01'], dtype='period[D]')\n",
            "PeriodIndex(['2019-01', '2020-03', '2021-06'], dtype='period[M]')\n",
            "PeriodIndex(['2019', '2020', '2021'], dtype='period[A-DEC]')\n"
          ]
        }
      ]
    },
    {
      "cell_type": "markdown",
      "source": [
        "## 02)시계열 데이터 만들기"
      ],
      "metadata": {
        "id": "fQXllI6ExY_E"
      }
    },
    {
      "cell_type": "markdown",
      "source": [
        "### Timestamp의 배열 만들기"
      ],
      "metadata": {
        "id": "6P1DxnqdxuGU"
      }
    },
    {
      "cell_type": "code",
      "source": [
        "import pandas as pd\n",
        "\n",
        "# Timestamp의 배열 만들기 - 월 간격, 월의 시작일 기준\n",
        "ts_ms = pd.date_range(start='2019-01-01',    # 날짜 범위의 시작\n",
        "                   end=None,                 # 날짜 범위의 끝\n",
        "                   periods=6,                # 생성할 Timestamp의 개수\n",
        "                   freq='MS',                # 시간 간격 (MS: 월의 시작일)\n",
        "                   tz='Asia/Seoul')          # 시간대(timezone)\n",
        "print(ts_ms)"
      ],
      "metadata": {
        "colab": {
          "base_uri": "https://localhost:8080/"
        },
        "id": "m7lrj_-IxPoC",
        "outputId": "ac5d9d23-e2fd-4d93-e1dc-f8ade47ffb36"
      },
      "execution_count": 10,
      "outputs": [
        {
          "output_type": "stream",
          "name": "stdout",
          "text": [
            "DatetimeIndex(['2019-01-01 00:00:00+09:00', '2019-02-01 00:00:00+09:00',\n",
            "               '2019-03-01 00:00:00+09:00', '2019-04-01 00:00:00+09:00',\n",
            "               '2019-05-01 00:00:00+09:00', '2019-06-01 00:00:00+09:00'],\n",
            "              dtype='datetime64[ns, Asia/Seoul]', freq='MS')\n"
          ]
        }
      ]
    },
    {
      "cell_type": "code",
      "source": [
        "# 월 간격, 월의 마지막 날 기준\n",
        "ts_me = pd.date_range('2019-01-01', periods=6, \n",
        "                   freq='M',              # 시간 간격 (M: 월의 마지막 날)\n",
        "                   tz='Asia/Seoul')       # 시간대(timezone)\n",
        "print(ts_me)"
      ],
      "metadata": {
        "colab": {
          "base_uri": "https://localhost:8080/"
        },
        "id": "o1uQNyqXxiXA",
        "outputId": "cb120d78-8164-429c-de1c-80e072bb5ce3"
      },
      "execution_count": 11,
      "outputs": [
        {
          "output_type": "stream",
          "name": "stdout",
          "text": [
            "DatetimeIndex(['2019-01-31 00:00:00+09:00', '2019-02-28 00:00:00+09:00',\n",
            "               '2019-03-31 00:00:00+09:00', '2019-04-30 00:00:00+09:00',\n",
            "               '2019-05-31 00:00:00+09:00', '2019-06-30 00:00:00+09:00'],\n",
            "              dtype='datetime64[ns, Asia/Seoul]', freq='M')\n"
          ]
        }
      ]
    },
    {
      "cell_type": "code",
      "source": [
        "# 분기(3개월) 간격, 월의 마지막 날 기준\n",
        "ts_3m = pd.date_range('2019-01-01', periods=6, \n",
        "                   freq='3M',             # 시간 간격 (3M: 3개월)\n",
        "                   tz='Asia/Seoul')       # 시간대(timezone)\n",
        "print(ts_3m)"
      ],
      "metadata": {
        "colab": {
          "base_uri": "https://localhost:8080/"
        },
        "id": "aH4tCSBJxj9Q",
        "outputId": "42eaca89-0f1f-4605-8b11-19ebbb7b43a5"
      },
      "execution_count": 12,
      "outputs": [
        {
          "output_type": "stream",
          "name": "stdout",
          "text": [
            "DatetimeIndex(['2019-01-31 00:00:00+09:00', '2019-04-30 00:00:00+09:00',\n",
            "               '2019-07-31 00:00:00+09:00', '2019-10-31 00:00:00+09:00',\n",
            "               '2020-01-31 00:00:00+09:00', '2020-04-30 00:00:00+09:00'],\n",
            "              dtype='datetime64[ns, Asia/Seoul]', freq='3M')\n"
          ]
        }
      ]
    },
    {
      "cell_type": "markdown",
      "source": [
        "### Period 배열 만들기"
      ],
      "metadata": {
        "id": "PvzMqthTxy9F"
      }
    },
    {
      "cell_type": "code",
      "source": [
        "# Period 배열 만들기 - 1개월 길이\n",
        "pr_m = pd.period_range(start='2019-01-01',     # 날짜 범위의 시작\n",
        "                   end=None,                   # 날짜 범위의 끝\n",
        "                   periods=3,                  # 생성할 Period 개수\n",
        "                   freq='M')                   # 기간의 길이 (M: 월)\n",
        "print(pr_m)"
      ],
      "metadata": {
        "colab": {
          "base_uri": "https://localhost:8080/"
        },
        "id": "2kbrmSWaxmAm",
        "outputId": "679908ca-440c-42ff-e006-48b3b9227e7f"
      },
      "execution_count": 13,
      "outputs": [
        {
          "output_type": "stream",
          "name": "stdout",
          "text": [
            "PeriodIndex(['2019-01', '2019-02', '2019-03'], dtype='period[M]')\n"
          ]
        }
      ]
    },
    {
      "cell_type": "code",
      "source": [
        "# Period 배열 만들기 - 1시간 길이\n",
        "pr_h = pd.period_range(start='2019-01-01',     # 날짜 범위의 시작\n",
        "                   end=None,                   # 날짜 범위의 끝\n",
        "                   periods=3,                  # 생성할 Period 개수\n",
        "                   freq='H')                   # 기간의 길이 (H: 시간)\n",
        "print(pr_h)"
      ],
      "metadata": {
        "colab": {
          "base_uri": "https://localhost:8080/"
        },
        "id": "nwH4Ta6Fx3rp",
        "outputId": "d6035004-9ca5-4cd1-d728-248fc4ffafba"
      },
      "execution_count": 14,
      "outputs": [
        {
          "output_type": "stream",
          "name": "stdout",
          "text": [
            "PeriodIndex(['2019-01-01 00:00', '2019-01-01 01:00', '2019-01-01 02:00'], dtype='period[H]')\n"
          ]
        }
      ]
    },
    {
      "cell_type": "code",
      "source": [
        "# Period 배열 만들기 - 2시간 길이\n",
        "pr_2h = pd.period_range(start='2019-01-01',    # 날짜 범위의 시작\n",
        "                   end=None,                   # 날짜 범위의 끝\n",
        "                   periods=3,                  # 생성할 Period 개수\n",
        "                   freq='2H')                  # 기간의 길이 (H: 시간)\n",
        "print(pr_2h)"
      ],
      "metadata": {
        "colab": {
          "base_uri": "https://localhost:8080/"
        },
        "id": "YU2QEQtvx6F7",
        "outputId": "64c81e45-f52a-476a-872c-0dedefcd0a34"
      },
      "execution_count": 15,
      "outputs": [
        {
          "output_type": "stream",
          "name": "stdout",
          "text": [
            "PeriodIndex(['2019-01-01 00:00', '2019-01-01 02:00', '2019-01-01 04:00'], dtype='period[2H]')\n"
          ]
        }
      ]
    },
    {
      "cell_type": "markdown",
      "source": [
        "## 03)시계열 데이터 활용"
      ],
      "metadata": {
        "id": "1uExZVrZx_zF"
      }
    },
    {
      "cell_type": "code",
      "source": [
        "import pandas as pd\n",
        "\n",
        "df = pd.read_csv('/content/stock-data.csv')\n",
        "\n",
        "# 문자열인 날짜 데이터를 판다스 Timestamp로 변환\n",
        "df['new_Date'] = pd.to_datetime(df['Date'])   #df에 새로운 열로 추가\n",
        "print(df.head())\n",
        "print('\\n')\n",
        "\n",
        "# dt 속성을 이용하여 new_Date 열의 년월일 정보를 년, 월, 일로 구분\n",
        "df['Year'] = df['new_Date'].dt.year\n",
        "df['Month'] = df['new_Date'].dt.month\n",
        "df['Day'] = df['new_Date'].dt.day\n",
        "print(df.head())"
      ],
      "metadata": {
        "colab": {
          "base_uri": "https://localhost:8080/"
        },
        "id": "ljX0IIUmx9LF",
        "outputId": "7dee265e-000c-4f6a-d5f9-2087b484f215"
      },
      "execution_count": 16,
      "outputs": [
        {
          "output_type": "stream",
          "name": "stdout",
          "text": [
            "         Date  Close  Start   High    Low  Volume   new_Date\n",
            "0  2018-07-02  10100  10850  10900  10000  137977 2018-07-02\n",
            "1  2018-06-29  10700  10550  10900   9990  170253 2018-06-29\n",
            "2  2018-06-28  10400  10900  10950  10150  155769 2018-06-28\n",
            "3  2018-06-27  10900  10800  11050  10500  133548 2018-06-27\n",
            "4  2018-06-26  10800  10900  11000  10700   63039 2018-06-26\n",
            "\n",
            "\n",
            "         Date  Close  Start   High    Low  Volume   new_Date  Year  Month  Day\n",
            "0  2018-07-02  10100  10850  10900  10000  137977 2018-07-02  2018      7    2\n",
            "1  2018-06-29  10700  10550  10900   9990  170253 2018-06-29  2018      6   29\n",
            "2  2018-06-28  10400  10900  10950  10150  155769 2018-06-28  2018      6   28\n",
            "3  2018-06-27  10900  10800  11050  10500  133548 2018-06-27  2018      6   27\n",
            "4  2018-06-26  10800  10900  11000  10700   63039 2018-06-26  2018      6   26\n"
          ]
        }
      ]
    },
    {
      "cell_type": "code",
      "source": [
        "# Timestamp를 Period로 변환하여 년월일 표기 변경하기\n",
        "df['Date_yr'] = df['new_Date'].dt.to_period(freq='A')\n",
        "df['Date_m'] = df['new_Date'].dt.to_period(freq='M')\n",
        "print(df.head())\n",
        "print('\\n')\n",
        "\n",
        "# 원하는 열을 새로운 행 인덱스로 지정\n",
        "df.set_index('Date_m', inplace=True)\n",
        "print(df.head())"
      ],
      "metadata": {
        "colab": {
          "base_uri": "https://localhost:8080/"
        },
        "id": "31i9Fjq5yVXb",
        "outputId": "b09509cb-f2bc-48a6-a2e4-8d625929a5bb"
      },
      "execution_count": 17,
      "outputs": [
        {
          "output_type": "stream",
          "name": "stdout",
          "text": [
            "         Date  Close  Start   High    Low  Volume   new_Date  Year  Month  \\\n",
            "0  2018-07-02  10100  10850  10900  10000  137977 2018-07-02  2018      7   \n",
            "1  2018-06-29  10700  10550  10900   9990  170253 2018-06-29  2018      6   \n",
            "2  2018-06-28  10400  10900  10950  10150  155769 2018-06-28  2018      6   \n",
            "3  2018-06-27  10900  10800  11050  10500  133548 2018-06-27  2018      6   \n",
            "4  2018-06-26  10800  10900  11000  10700   63039 2018-06-26  2018      6   \n",
            "\n",
            "   Day Date_yr   Date_m  \n",
            "0    2    2018  2018-07  \n",
            "1   29    2018  2018-06  \n",
            "2   28    2018  2018-06  \n",
            "3   27    2018  2018-06  \n",
            "4   26    2018  2018-06  \n",
            "\n",
            "\n",
            "               Date  Close  Start   High    Low  Volume   new_Date  Year  \\\n",
            "Date_m                                                                     \n",
            "2018-07  2018-07-02  10100  10850  10900  10000  137977 2018-07-02  2018   \n",
            "2018-06  2018-06-29  10700  10550  10900   9990  170253 2018-06-29  2018   \n",
            "2018-06  2018-06-28  10400  10900  10950  10150  155769 2018-06-28  2018   \n",
            "2018-06  2018-06-27  10900  10800  11050  10500  133548 2018-06-27  2018   \n",
            "2018-06  2018-06-26  10800  10900  11000  10700   63039 2018-06-26  2018   \n",
            "\n",
            "         Month  Day Date_yr  \n",
            "Date_m                       \n",
            "2018-07      7    2    2018  \n",
            "2018-06      6   29    2018  \n",
            "2018-06      6   28    2018  \n",
            "2018-06      6   27    2018  \n",
            "2018-06      6   26    2018  \n"
          ]
        }
      ]
    },
    {
      "cell_type": "code",
      "source": [
        "import pandas as pd\n",
        "\n",
        "df = pd.read_csv('/content/stock-data.csv')\n",
        "\n",
        "# 문자열인 날짜 데이터를 판다스 Timestamp로 변환\n",
        "df['new_Date'] = pd.to_datetime(df['Date'])   # 새로운 열에 추가\n",
        "df.set_index('new_Date', inplace=True)        # 행 인덱스로 지정\n",
        "\n",
        "print(df.head())\n",
        "print('\\n')\n",
        "print(df.index)\n",
        "print('\\n')\n",
        "\n",
        "# 날짜 인덱스를 이용하여 데이터 선택하기\n",
        "df_y = df['2018']\n",
        "print(df_y.head())\n",
        "print('\\n')\n",
        "df_ym = df.loc['2018-07']    # loc 인덱서 활용\n",
        "print(df_ym)\n",
        "print('\\n')\n",
        "df_ym_cols = df.loc['2018-07', 'Start':'High']    # 열 범위 슬라이싱\n",
        "print(df_ym_cols)\n",
        "print('\\n')\n",
        "df_ymd = df['2018-07-02']\n",
        "print(df_ymd)\n",
        "print('\\n')\n",
        "df_ymd_range = df['2018-06-25':'2018-06-20']    # 날짜 범위 지정\n",
        "print(df_ymd_range)\n",
        "print('\\n')\n",
        "\n",
        "# 시간 간격 계산. 최근 180일 ~ 189일 사이의 값들만 선택하기\n",
        "today = pd.to_datetime('2018-12-25')            # 기준일 생성\n",
        "df['time_delta'] = today - df.index             # 날짜 차이 계산\n",
        "df.set_index('time_delta', inplace=True)        # 행 인덱스로 지정\n",
        "df_180 = df['180 days':'189 days']\n",
        "print(df_180)"
      ],
      "metadata": {
        "colab": {
          "base_uri": "https://localhost:8080/"
        },
        "id": "qEsfDGy7yW7Y",
        "outputId": "bf9237bc-e656-4d78-8741-58f7c59b3825"
      },
      "execution_count": 18,
      "outputs": [
        {
          "output_type": "stream",
          "name": "stdout",
          "text": [
            "                  Date  Close  Start   High    Low  Volume\n",
            "new_Date                                                  \n",
            "2018-07-02  2018-07-02  10100  10850  10900  10000  137977\n",
            "2018-06-29  2018-06-29  10700  10550  10900   9990  170253\n",
            "2018-06-28  2018-06-28  10400  10900  10950  10150  155769\n",
            "2018-06-27  2018-06-27  10900  10800  11050  10500  133548\n",
            "2018-06-26  2018-06-26  10800  10900  11000  10700   63039\n",
            "\n",
            "\n",
            "DatetimeIndex(['2018-07-02', '2018-06-29', '2018-06-28', '2018-06-27',\n",
            "               '2018-06-26', '2018-06-25', '2018-06-22', '2018-06-21',\n",
            "               '2018-06-20', '2018-06-19', '2018-06-18', '2018-06-15',\n",
            "               '2018-06-14', '2018-06-12', '2018-06-11', '2018-06-08',\n",
            "               '2018-06-07', '2018-06-05', '2018-06-04', '2018-06-01'],\n",
            "              dtype='datetime64[ns]', name='new_Date', freq=None)\n",
            "\n",
            "\n",
            "                  Date  Close  Start   High    Low  Volume\n",
            "new_Date                                                  \n",
            "2018-07-02  2018-07-02  10100  10850  10900  10000  137977\n",
            "2018-06-29  2018-06-29  10700  10550  10900   9990  170253\n",
            "2018-06-28  2018-06-28  10400  10900  10950  10150  155769\n",
            "2018-06-27  2018-06-27  10900  10800  11050  10500  133548\n",
            "2018-06-26  2018-06-26  10800  10900  11000  10700   63039\n",
            "\n",
            "\n",
            "                  Date  Close  Start   High    Low  Volume\n",
            "new_Date                                                  \n",
            "2018-07-02  2018-07-02  10100  10850  10900  10000  137977\n",
            "\n",
            "\n",
            "            Start   High\n",
            "new_Date                \n",
            "2018-07-02  10850  10900\n",
            "\n",
            "\n",
            "                  Date  Close  Start   High    Low  Volume\n",
            "new_Date                                                  \n",
            "2018-07-02  2018-07-02  10100  10850  10900  10000  137977\n",
            "\n",
            "\n",
            "Empty DataFrame\n",
            "Columns: [Date, Close, Start, High, Low, Volume]\n",
            "Index: []\n",
            "\n",
            "\n",
            "                  Date  Close  Start   High    Low  Volume\n",
            "time_delta                                                \n",
            "180 days    2018-06-28  10400  10900  10950  10150  155769\n",
            "181 days    2018-06-27  10900  10800  11050  10500  133548\n",
            "182 days    2018-06-26  10800  10900  11000  10700   63039\n",
            "183 days    2018-06-25  11150  11400  11450  11000   55519\n",
            "186 days    2018-06-22  11300  11250  11450  10750  134805\n",
            "187 days    2018-06-21  11200  11350  11750  11200  133002\n",
            "188 days    2018-06-20  11550  11200  11600  10900  308596\n",
            "189 days    2018-06-19  11300  11850  11950  11300  180656\n"
          ]
        },
        {
          "output_type": "stream",
          "name": "stderr",
          "text": [
            "/usr/local/lib/python3.7/dist-packages/ipykernel_launcher.py:15: FutureWarning: Indexing a DataFrame with a datetimelike index using a single string to slice the rows, like `frame[string]`, is deprecated and will be removed in a future version. Use `frame.loc[string]` instead.\n",
            "  from ipykernel import kernelapp as app\n",
            "/usr/local/lib/python3.7/dist-packages/ipykernel_launcher.py:24: FutureWarning: Indexing a DataFrame with a datetimelike index using a single string to slice the rows, like `frame[string]`, is deprecated and will be removed in a future version. Use `frame.loc[string]` instead.\n"
          ]
        }
      ]
    }
  ]
}