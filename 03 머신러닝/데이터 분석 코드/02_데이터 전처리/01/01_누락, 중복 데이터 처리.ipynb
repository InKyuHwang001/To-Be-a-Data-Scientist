{
  "nbformat": 4,
  "nbformat_minor": 0,
  "metadata": {
    "colab": {
      "name": "01.누락, 중복 데이터 처리.ipynb",
      "provenance": []
    },
    "kernelspec": {
      "name": "python3",
      "display_name": "Python 3"
    },
    "language_info": {
      "name": "python"
    },
    "accelerator": "GPU",
    "gpuClass": "standard"
  },
  "cells": [
    {
      "cell_type": "markdown",
      "source": [
        "# 01.누락데이터 처리"
      ],
      "metadata": {
        "id": "l-JqgrsjsPex"
      }
    },
    {
      "cell_type": "markdown",
      "source": [
        "## 01)누락데이터 숫자"
      ],
      "metadata": {
        "id": "VFjt0yd6tjc3"
      }
    },
    {
      "cell_type": "code",
      "source": [
        "import seaborn as sns\n",
        "\n",
        "# titanic 데이터셋 가져오기\n",
        "df=sns.load_dataset('titanic')"
      ],
      "metadata": {
        "id": "Wn6uqkyCsP03"
      },
      "execution_count": 2,
      "outputs": []
    },
    {
      "cell_type": "code",
      "execution_count": 3,
      "metadata": {
        "colab": {
          "base_uri": "https://localhost:8080/"
        },
        "id": "_awiFqSMsKxz",
        "outputId": "6e6d3622-8c64-4873-c04c-7af18b5e1886"
      },
      "outputs": [
        {
          "output_type": "stream",
          "name": "stdout",
          "text": [
            "NaN    688\n",
            "C       59\n",
            "B       47\n",
            "D       33\n",
            "E       32\n",
            "A       15\n",
            "F       13\n",
            "G        4\n",
            "Name: deck, dtype: int64\n",
            "   survived  pclass    sex    age  sibsp  parch   fare  embarked  class  \\\n",
            "0     False   False  False  False  False  False  False     False  False   \n",
            "1     False   False  False  False  False  False  False     False  False   \n",
            "2     False   False  False  False  False  False  False     False  False   \n",
            "3     False   False  False  False  False  False  False     False  False   \n",
            "4     False   False  False  False  False  False  False     False  False   \n",
            "\n",
            "     who  adult_male   deck  embark_town  alive  alone  \n",
            "0  False       False   True        False  False  False  \n",
            "1  False       False  False        False  False  False  \n",
            "2  False       False   True        False  False  False  \n",
            "3  False       False  False        False  False  False  \n",
            "4  False       False   True        False  False  False  \n",
            "   survived  pclass   sex   age  sibsp  parch  fare  embarked  class   who  \\\n",
            "0      True    True  True  True   True   True  True      True   True  True   \n",
            "1      True    True  True  True   True   True  True      True   True  True   \n",
            "2      True    True  True  True   True   True  True      True   True  True   \n",
            "3      True    True  True  True   True   True  True      True   True  True   \n",
            "4      True    True  True  True   True   True  True      True   True  True   \n",
            "\n",
            "   adult_male   deck  embark_town  alive  alone  \n",
            "0        True  False         True   True   True  \n",
            "1        True   True         True   True   True  \n",
            "2        True  False         True   True   True  \n",
            "3        True   True         True   True   True  \n",
            "4        True  False         True   True   True  \n",
            "survived       0\n",
            "pclass         0\n",
            "sex            0\n",
            "age            0\n",
            "sibsp          0\n",
            "parch          0\n",
            "fare           0\n",
            "embarked       0\n",
            "class          0\n",
            "who            0\n",
            "adult_male     0\n",
            "deck           3\n",
            "embark_town    0\n",
            "alive          0\n",
            "alone          0\n",
            "dtype: int64\n"
          ]
        }
      ],
      "source": [
        "# deck 열의 NaN 개수 계산하기\n",
        "nan_deck = df['deck'].value_counts(dropna=False) \n",
        "print(nan_deck)\n",
        "\n",
        "# isnull() 메서드로 누락 데이터 찾기\n",
        "print(df.head().isnull())\n",
        "\n",
        "# notnull() 메서드로 누락 데이터 찾기\n",
        "print(df.head().notnull())\n",
        "\n",
        "# isnull() 메서드로 누락 데이터 개수 구하기\n",
        "print(df.head().isnull().sum(axis=0))"
      ]
    },
    {
      "cell_type": "code",
      "source": [
        "# for 반복문으로 각 열의 NaN 개수 계산하기\n",
        "missing_df = df.isnull()\n",
        "for col in missing_df.columns:\n",
        "    missing_count = missing_df[col].value_counts()    # 각 열의 NaN 개수 파악\n",
        "\n",
        "    try: \n",
        "        print(col, ': ', missing_count[True])   # NaN 값이 있으면 개수를 출력\n",
        "    except:\n",
        "        print(col, ': ', 0)                     # NaN 값이 없으면 0개 출력"
      ],
      "metadata": {
        "colab": {
          "base_uri": "https://localhost:8080/"
        },
        "id": "Jn4aAKZfspFy",
        "outputId": "fdb22b78-9a3e-4b5d-c0f0-dd11fb76e22a"
      },
      "execution_count": 4,
      "outputs": [
        {
          "output_type": "stream",
          "name": "stdout",
          "text": [
            "survived :  0\n",
            "pclass :  0\n",
            "sex :  0\n",
            "age :  177\n",
            "sibsp :  0\n",
            "parch :  0\n",
            "fare :  0\n",
            "embarked :  2\n",
            "class :  0\n",
            "who :  0\n",
            "adult_male :  0\n",
            "deck :  688\n",
            "embark_town :  2\n",
            "alive :  0\n",
            "alone :  0\n"
          ]
        }
      ]
    },
    {
      "cell_type": "markdown",
      "source": [
        "## 02)행열 삭제"
      ],
      "metadata": {
        "id": "8sBKKhcQtqax"
      }
    },
    {
      "cell_type": "code",
      "source": [
        "# NaN 값이 500개 이상인 열을 모두 삭제 - deck 열(891개 중 688개의 NaN 값)\n",
        "df_thresh = df.dropna(axis=1, thresh=500)  \n",
        "print(df_thresh.columns)"
      ],
      "metadata": {
        "colab": {
          "base_uri": "https://localhost:8080/"
        },
        "id": "pH5v7_4PtQcO",
        "outputId": "152b0e07-6e84-4b1b-de12-49ce72206bda"
      },
      "execution_count": 5,
      "outputs": [
        {
          "output_type": "stream",
          "name": "stdout",
          "text": [
            "Index(['survived', 'pclass', 'sex', 'age', 'sibsp', 'parch', 'fare',\n",
            "       'embarked', 'class', 'who', 'adult_male', 'embark_town', 'alive',\n",
            "       'alone'],\n",
            "      dtype='object')\n"
          ]
        }
      ]
    },
    {
      "cell_type": "code",
      "source": [
        "# age 열에 나이 데이터가 없는 모든 행을 삭제 - age 열(891개 중 177개의 NaN 값)\n",
        "df_age = df.dropna(subset=['age'], how='any', axis=0)  \n",
        "print(len(df_age))"
      ],
      "metadata": {
        "colab": {
          "base_uri": "https://localhost:8080/"
        },
        "id": "xQDRwjyAtUT9",
        "outputId": "aadd496a-9ccb-43d9-9b14-1d6fc1a68be8"
      },
      "execution_count": 6,
      "outputs": [
        {
          "output_type": "stream",
          "name": "stdout",
          "text": [
            "714\n"
          ]
        }
      ]
    },
    {
      "cell_type": "markdown",
      "source": [
        "## 03)변경"
      ],
      "metadata": {
        "id": "K4lpbiprtt6z"
      }
    },
    {
      "cell_type": "markdown",
      "source": [
        "### 나이 평균 변경"
      ],
      "metadata": {
        "id": "7f5fBRkHuMWO"
      }
    },
    {
      "cell_type": "code",
      "source": [
        "import seaborn as sns\n",
        "df = sns.load_dataset('titanic')\n",
        "\n",
        "print(df['age'].head(10))\n",
        "print('\\n')"
      ],
      "metadata": {
        "colab": {
          "base_uri": "https://localhost:8080/"
        },
        "id": "oVnvhVRXtaEe",
        "outputId": "12461f4d-1f42-48ac-8534-520bf0496b04"
      },
      "execution_count": 7,
      "outputs": [
        {
          "output_type": "stream",
          "name": "stdout",
          "text": [
            "0    22.0\n",
            "1    38.0\n",
            "2    26.0\n",
            "3    35.0\n",
            "4    35.0\n",
            "5     NaN\n",
            "6    54.0\n",
            "7     2.0\n",
            "8    27.0\n",
            "9    14.0\n",
            "Name: age, dtype: float64\n",
            "\n",
            "\n"
          ]
        }
      ]
    },
    {
      "cell_type": "code",
      "source": [
        "# age 열의 NaN값을 다른 나이 데이터의 평균으로 변경하기\n",
        "mean_age = df['age'].mean(axis=0)   # age 열의 평균 계산 (NaN 값 제외)\n",
        "df['age'].fillna(mean_age, inplace=True)\n",
        "\n",
        "print(df['age'].head(10))"
      ],
      "metadata": {
        "colab": {
          "base_uri": "https://localhost:8080/"
        },
        "id": "h2l50O_wt3P4",
        "outputId": "4fd68fc4-733f-4b05-ad17-4317b39a47c4"
      },
      "execution_count": 9,
      "outputs": [
        {
          "output_type": "stream",
          "name": "stdout",
          "text": [
            "0    22.000000\n",
            "1    38.000000\n",
            "2    26.000000\n",
            "3    35.000000\n",
            "4    35.000000\n",
            "5    29.699118\n",
            "6    54.000000\n",
            "7     2.000000\n",
            "8    27.000000\n",
            "9    14.000000\n",
            "Name: age, dtype: float64\n"
          ]
        }
      ]
    },
    {
      "cell_type": "markdown",
      "source": [
        "### 도시 최빈값으로 변경"
      ],
      "metadata": {
        "id": "ye-8drljuQHr"
      }
    },
    {
      "cell_type": "code",
      "source": [
        "df = sns.load_dataset('titanic')\n",
        "\n",
        "# embark_town 열의 829행의 NaN 데이터 출력\n",
        "print(df['embark_town'][825:830])\n",
        "print('\\n')"
      ],
      "metadata": {
        "colab": {
          "base_uri": "https://localhost:8080/"
        },
        "id": "RDW4-zHYt9hT",
        "outputId": "a56a66e4-e5d2-43e3-8af1-bdd889744b8b"
      },
      "execution_count": 10,
      "outputs": [
        {
          "output_type": "stream",
          "name": "stdout",
          "text": [
            "825     Queenstown\n",
            "826    Southampton\n",
            "827      Cherbourg\n",
            "828     Queenstown\n",
            "829            NaN\n",
            "Name: embark_town, dtype: object\n",
            "\n",
            "\n"
          ]
        }
      ]
    },
    {
      "cell_type": "code",
      "source": [
        "# embark_town 열의 NaN값을 승선도시 중에서 가장 많이 출현한 값으로 치환하기\n",
        "most_freq = df['embark_town'].value_counts(dropna=True).idxmax()   \n",
        "print(most_freq)\n",
        "print('\\n')\n",
        "\n",
        "df['embark_town'].fillna(most_freq, inplace=True)\n",
        "\n",
        "# embark_town 열 829행의 NaN 데이터 출력 (NaN 값이 most_freq 값으로 대체)\n",
        "print(df['embark_town'][825:830])"
      ],
      "metadata": {
        "colab": {
          "base_uri": "https://localhost:8080/"
        },
        "id": "xsbGf6X1t71v",
        "outputId": "56eda4a6-0f68-4592-ba68-9b27171df907"
      },
      "execution_count": 11,
      "outputs": [
        {
          "output_type": "stream",
          "name": "stdout",
          "text": [
            "Southampton\n",
            "\n",
            "\n",
            "825     Queenstown\n",
            "826    Southampton\n",
            "827      Cherbourg\n",
            "828     Queenstown\n",
            "829    Southampton\n",
            "Name: embark_town, dtype: object\n"
          ]
        }
      ]
    },
    {
      "cell_type": "markdown",
      "source": [
        "### 도시를 앞에 표기된 도시로 변경"
      ],
      "metadata": {
        "id": "b2HaPJQzuh4b"
      }
    },
    {
      "cell_type": "code",
      "source": [
        "df = sns.load_dataset('titanic')\n",
        "\n",
        "# embark_town 열의 829행의 NaN 데이터 출력\n",
        "print(df['embark_town'][825:830])\n",
        "print('\\n')\n",
        "\n",
        "# embark_town 열의 NaN값을 바로 앞에 있는 828행의 값으로 변경하기\n",
        "df['embark_town'].fillna(method='ffill', inplace=True)\n",
        "print(df['embark_town'][825:830])"
      ],
      "metadata": {
        "colab": {
          "base_uri": "https://localhost:8080/"
        },
        "id": "nYNKE3Woudxm",
        "outputId": "147d5c08-fc67-421f-e768-eeb09ef183af"
      },
      "execution_count": 12,
      "outputs": [
        {
          "output_type": "stream",
          "name": "stdout",
          "text": [
            "825     Queenstown\n",
            "826    Southampton\n",
            "827      Cherbourg\n",
            "828     Queenstown\n",
            "829            NaN\n",
            "Name: embark_town, dtype: object\n",
            "\n",
            "\n",
            "825     Queenstown\n",
            "826    Southampton\n",
            "827      Cherbourg\n",
            "828     Queenstown\n",
            "829     Queenstown\n",
            "Name: embark_town, dtype: object\n"
          ]
        }
      ]
    },
    {
      "cell_type": "markdown",
      "source": [
        "# 02.중복 데이터 처리\n"
      ],
      "metadata": {
        "id": "H3XRkczkvjNx"
      }
    },
    {
      "cell_type": "markdown",
      "source": [
        "## 01)중복값 찾기"
      ],
      "metadata": {
        "id": "uq3nqhbAvobJ"
      }
    },
    {
      "cell_type": "code",
      "source": [
        "import pandas as pd\n",
        "\n",
        "# 중복 데이터를 갖는 데이터프레임 만들기\n",
        "df = pd.DataFrame({'c1':['a', 'a', 'b', 'a', 'b'],\n",
        "                  'c2':[1, 1, 1, 2, 2],\n",
        "                  'c3':[1, 1, 2, 2, 2]})\n",
        "print(df)\n",
        "print('\\n')"
      ],
      "metadata": {
        "colab": {
          "base_uri": "https://localhost:8080/"
        },
        "id": "ENGvr2nfvssC",
        "outputId": "e4ad7470-0b9d-44f7-836c-3cea4d084bf3"
      },
      "execution_count": 13,
      "outputs": [
        {
          "output_type": "stream",
          "name": "stdout",
          "text": [
            "  c1  c2  c3\n",
            "0  a   1   1\n",
            "1  a   1   1\n",
            "2  b   1   2\n",
            "3  a   2   2\n",
            "4  b   2   2\n",
            "\n",
            "\n"
          ]
        }
      ]
    },
    {
      "cell_type": "code",
      "source": [
        "# 데이터프레임 전체 행 데이터 중에서 중복값 찾기\n",
        "df_dup = df.duplicated()\n",
        "print(df_dup)\n",
        "print('\\n')\n",
        "\n",
        "# 데이터프레임의 특정 열 데이터에서 중복값 찾기\n",
        "col_dup = df['c2'].duplicated()\n",
        "print(col_dup)"
      ],
      "metadata": {
        "colab": {
          "base_uri": "https://localhost:8080/"
        },
        "id": "vCcrDgakvzWm",
        "outputId": "31fa087c-e628-4e7d-cfee-a77785367a9f"
      },
      "execution_count": 14,
      "outputs": [
        {
          "output_type": "stream",
          "name": "stdout",
          "text": [
            "0    False\n",
            "1     True\n",
            "2    False\n",
            "3    False\n",
            "4    False\n",
            "dtype: bool\n",
            "\n",
            "\n",
            "0    False\n",
            "1     True\n",
            "2     True\n",
            "3    False\n",
            "4     True\n",
            "Name: c2, dtype: bool\n"
          ]
        }
      ]
    },
    {
      "cell_type": "markdown",
      "source": [
        "## 02)중복 행을 제거"
      ],
      "metadata": {
        "id": "UAa7v1tLwCqy"
      }
    },
    {
      "cell_type": "code",
      "source": [
        "# 데이터프레임에서 중복 행을 제거\n",
        "df2 = df.drop_duplicates()\n",
        "print(df2)\n",
        "print('\\n')"
      ],
      "metadata": {
        "colab": {
          "base_uri": "https://localhost:8080/"
        },
        "id": "gOQpsmPgv9jq",
        "outputId": "5eef28d3-8ef8-429c-ad83-a9b903454ac2"
      },
      "execution_count": 15,
      "outputs": [
        {
          "output_type": "stream",
          "name": "stdout",
          "text": [
            "  c1  c2  c3\n",
            "0  a   1   1\n",
            "2  b   1   2\n",
            "3  a   2   2\n",
            "4  b   2   2\n",
            "\n",
            "\n"
          ]
        }
      ]
    },
    {
      "cell_type": "code",
      "source": [
        "# c2, c3열을 기준으로 중복 행을 제거\n",
        "df3 = df.drop_duplicates(subset=['c2', 'c3'])\n",
        "print(df3)"
      ],
      "metadata": {
        "colab": {
          "base_uri": "https://localhost:8080/"
        },
        "id": "ZAr181u6wJRH",
        "outputId": "951720b1-8338-4cc5-a9dc-480422662e65"
      },
      "execution_count": 16,
      "outputs": [
        {
          "output_type": "stream",
          "name": "stdout",
          "text": [
            "  c1  c2  c3\n",
            "0  a   1   1\n",
            "2  b   1   2\n",
            "3  a   2   2\n"
          ]
        }
      ]
    }
  ]
}