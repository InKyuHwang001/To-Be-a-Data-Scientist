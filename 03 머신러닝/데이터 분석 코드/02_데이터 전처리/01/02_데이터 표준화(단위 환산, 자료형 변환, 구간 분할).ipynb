{
  "nbformat": 4,
  "nbformat_minor": 0,
  "metadata": {
    "colab": {
      "name": "02.데이터 표준화(단위 환산, 자료형 변환, 구간 분할).ipynb",
      "provenance": []
    },
    "kernelspec": {
      "name": "python3",
      "display_name": "Python 3"
    },
    "language_info": {
      "name": "python"
    },
    "accelerator": "GPU",
    "gpuClass": "standard"
  },
  "cells": [
    {
      "cell_type": "markdown",
      "source": [
        "# 01.단위 환산"
      ],
      "metadata": {
        "id": "57AS2cB4xYnd"
      }
    },
    {
      "cell_type": "code",
      "execution_count": 1,
      "metadata": {
        "colab": {
          "base_uri": "https://localhost:8080/"
        },
        "id": "YbifI9eJxUH4",
        "outputId": "0a44c969-0ffa-4774-81e8-44ecc330e94c"
      },
      "outputs": [
        {
          "output_type": "stream",
          "name": "stdout",
          "text": [
            "    mpg  cylinders  displacement horsepower  weight  acceleration  model year  \\\n",
            "0  18.0          8         307.0      130.0  3504.0          12.0          70   \n",
            "1  15.0          8         350.0      165.0  3693.0          11.5          70   \n",
            "2  18.0          8         318.0      150.0  3436.0          11.0          70   \n",
            "\n",
            "   origin                       name  \n",
            "0       1  chevrolet chevelle malibu  \n",
            "1       1          buick skylark 320  \n",
            "2       1         plymouth satellite  \n",
            "\n",
            "\n"
          ]
        }
      ],
      "source": [
        "import pandas as pd\n",
        "df = pd.read_csv('/content/auto-mpg.csv', header=None)\n",
        "\n",
        "# 열 이름을 지정\n",
        "df.columns = ['mpg','cylinders','displacement','horsepower','weight',\n",
        "              'acceleration','model year','origin','name'] \n",
        "print(df.head(3))    \n",
        "print('\\n')"
      ]
    },
    {
      "cell_type": "code",
      "source": [
        "# mpg(mile per gallon)를 kpl(kilometer per liter)로 변환 (mpg_to_kpl = 0.425)\n",
        "mpg_to_kpl = 1.60934 / 3.78541\n",
        "\n",
        "# mpg 열에 0.425를 곱한 결과를 새로운 열(kpl)에 추가\n",
        "df['kpl'] = df['mpg'] * mpg_to_kpl\n",
        "print(df.head(3))    \n",
        "print('\\n')\n",
        "\n",
        "# kpl 열을 소수점 아래 둘째 자리에서 반올림 \n",
        "df['kpl'] = df['kpl'].round(2)\n",
        "print(df.head(3))"
      ],
      "metadata": {
        "colab": {
          "base_uri": "https://localhost:8080/"
        },
        "id": "nXGW6g-Rx413",
        "outputId": "f28fcfa4-0bc0-4f56-b46a-7908a0425337"
      },
      "execution_count": 2,
      "outputs": [
        {
          "output_type": "stream",
          "name": "stdout",
          "text": [
            "    mpg  cylinders  displacement horsepower  weight  acceleration  model year  \\\n",
            "0  18.0          8         307.0      130.0  3504.0          12.0          70   \n",
            "1  15.0          8         350.0      165.0  3693.0          11.5          70   \n",
            "2  18.0          8         318.0      150.0  3436.0          11.0          70   \n",
            "\n",
            "   origin                       name       kpl  \n",
            "0       1  chevrolet chevelle malibu  7.652571  \n",
            "1       1          buick skylark 320  6.377143  \n",
            "2       1         plymouth satellite  7.652571  \n",
            "\n",
            "\n",
            "    mpg  cylinders  displacement horsepower  weight  acceleration  model year  \\\n",
            "0  18.0          8         307.0      130.0  3504.0          12.0          70   \n",
            "1  15.0          8         350.0      165.0  3693.0          11.5          70   \n",
            "2  18.0          8         318.0      150.0  3436.0          11.0          70   \n",
            "\n",
            "   origin                       name   kpl  \n",
            "0       1  chevrolet chevelle malibu  7.65  \n",
            "1       1          buick skylark 320  6.38  \n",
            "2       1         plymouth satellite  7.65  \n"
          ]
        }
      ]
    },
    {
      "cell_type": "markdown",
      "source": [
        "# 02.자료형 변환"
      ],
      "metadata": {
        "id": "KbxWbYSGyPRw"
      }
    },
    {
      "cell_type": "code",
      "source": [
        "df = pd.read_csv('/content/auto-mpg.csv', header=None)\n",
        "df.columns = ['mpg','cylinders','displacement','horsepower','weight',\n",
        "              'acceleration','model year','origin','name'] \n",
        "\n",
        "# 각 열의 자료형 확인\n",
        "print(df.dtypes)   \n",
        "print('\\n')\n",
        "\n",
        "# horsepower 열의 고유값 확인\n",
        "print(df['horsepower'].unique())"
      ],
      "metadata": {
        "colab": {
          "base_uri": "https://localhost:8080/"
        },
        "id": "MxLxjW2fyMyd",
        "outputId": "4915102e-ade9-4115-8864-60ae38f5431e"
      },
      "execution_count": 3,
      "outputs": [
        {
          "output_type": "stream",
          "name": "stdout",
          "text": [
            "mpg             float64\n",
            "cylinders         int64\n",
            "displacement    float64\n",
            "horsepower       object\n",
            "weight          float64\n",
            "acceleration    float64\n",
            "model year        int64\n",
            "origin            int64\n",
            "name             object\n",
            "dtype: object\n",
            "\n",
            "\n",
            "['130.0' '165.0' '150.0' '140.0' '198.0' '220.0' '215.0' '225.0' '190.0'\n",
            " '170.0' '160.0' '95.00' '97.00' '85.00' '88.00' '46.00' '87.00' '90.00'\n",
            " '113.0' '200.0' '210.0' '193.0' '?' '100.0' '105.0' '175.0' '153.0'\n",
            " '180.0' '110.0' '72.00' '86.00' '70.00' '76.00' '65.00' '69.00' '60.00'\n",
            " '80.00' '54.00' '208.0' '155.0' '112.0' '92.00' '145.0' '137.0' '158.0'\n",
            " '167.0' '94.00' '107.0' '230.0' '49.00' '75.00' '91.00' '122.0' '67.00'\n",
            " '83.00' '78.00' '52.00' '61.00' '93.00' '148.0' '129.0' '96.00' '71.00'\n",
            " '98.00' '115.0' '53.00' '81.00' '79.00' '120.0' '152.0' '102.0' '108.0'\n",
            " '68.00' '58.00' '149.0' '89.00' '63.00' '48.00' '66.00' '139.0' '103.0'\n",
            " '125.0' '133.0' '138.0' '135.0' '142.0' '77.00' '62.00' '132.0' '84.00'\n",
            " '64.00' '74.00' '116.0' '82.00']\n"
          ]
        }
      ]
    },
    {
      "cell_type": "code",
      "source": [
        "# 누락 데이터('?') 삭제 \n",
        "import numpy as np\n",
        "df['horsepower'].replace('?', np.nan, inplace=True)      # '?'을 np.nan으로 변경\n",
        "df.dropna(subset=['horsepower'], axis=0, inplace=True)   # 누락데이터 행을 삭제\n",
        "df['horsepower'] = df['horsepower'].astype('float')      # 문자열을 실수형으로 변환\n",
        "\n",
        "# horsepower 열의 자료형 확인\n",
        "print(df['horsepower'].dtypes)  \n",
        "print('\\n')\n",
        "\n",
        "# origin 열의 고유값 확인\n",
        "print(df['origin'].unique())"
      ],
      "metadata": {
        "colab": {
          "base_uri": "https://localhost:8080/"
        },
        "id": "hXldTnI_ykxg",
        "outputId": "4dc38da8-7f12-4789-c7d7-93f72dac2762"
      },
      "execution_count": 4,
      "outputs": [
        {
          "output_type": "stream",
          "name": "stdout",
          "text": [
            "float64\n",
            "\n",
            "\n",
            "[1 3 2]\n"
          ]
        }
      ]
    },
    {
      "cell_type": "code",
      "source": [
        "# 정수형 데이터를 문자형 데이터로 변환 \n",
        "df['origin'].replace({1:'USA', 2:'EU', 3:'JAPAN'}, inplace=True)\n",
        "\n",
        "# origin 열의 고유값과 자료형 확인\n",
        "print(df['origin'].unique())\n",
        "print('\\n')\n",
        "print(df['origin'].dtypes) "
      ],
      "metadata": {
        "colab": {
          "base_uri": "https://localhost:8080/"
        },
        "id": "aoThcJ00y1TW",
        "outputId": "47dc361a-3bbc-4b2f-d3bf-fe6592b5ca8f"
      },
      "execution_count": 6,
      "outputs": [
        {
          "output_type": "stream",
          "name": "stdout",
          "text": [
            "['USA' 'JAPAN' 'EU']\n",
            "\n",
            "\n",
            "object\n"
          ]
        }
      ]
    },
    {
      "cell_type": "code",
      "source": [
        "# origin 열의 문자열 자료형을 범주형으로 변환\n",
        "df['origin'] = df['origin'].astype('category')     \n",
        "print(df['origin'].dtypes)"
      ],
      "metadata": {
        "colab": {
          "base_uri": "https://localhost:8080/"
        },
        "id": "R4lcpKF9zKwM",
        "outputId": "e9d34eac-955c-43cb-a0f8-4d781a7d1b37"
      },
      "execution_count": 7,
      "outputs": [
        {
          "output_type": "stream",
          "name": "stdout",
          "text": [
            "category\n"
          ]
        }
      ]
    },
    {
      "cell_type": "code",
      "source": [
        "# 범주형을 문자열로 다시 변환\n",
        "df['origin'] = df['origin'].astype('str')     \n",
        "print(df['origin'].dtypes)"
      ],
      "metadata": {
        "colab": {
          "base_uri": "https://localhost:8080/"
        },
        "id": "UavNM0eRzZ5I",
        "outputId": "ea06573a-52e0-4cce-b80c-a88673f7c93d"
      },
      "execution_count": 8,
      "outputs": [
        {
          "output_type": "stream",
          "name": "stdout",
          "text": [
            "object\n"
          ]
        }
      ]
    },
    {
      "cell_type": "code",
      "source": [
        "# model year 열의 정수형을 범주형으로 변환\n",
        "print(df['model year'].sample(3))\n",
        "df['model year'] = df['model year'].astype('category') \n",
        "print(df['model year'].sample(3)) "
      ],
      "metadata": {
        "colab": {
          "base_uri": "https://localhost:8080/"
        },
        "id": "m6qHEaiozaaN",
        "outputId": "83008784-e7b5-475c-846d-b9f343a7d64d"
      },
      "execution_count": 9,
      "outputs": [
        {
          "output_type": "stream",
          "name": "stdout",
          "text": [
            "201    76\n",
            "69     72\n",
            "108    73\n",
            "Name: model year, dtype: int64\n",
            "288    79\n",
            "206    76\n",
            "83     72\n",
            "Name: model year, dtype: category\n",
            "Categories (13, int64): [70, 71, 72, 73, ..., 79, 80, 81, 82]\n"
          ]
        }
      ]
    },
    {
      "cell_type": "markdown",
      "source": [
        "# 03.구간 분할"
      ],
      "metadata": {
        "id": "8aikz5ImzmlJ"
      }
    },
    {
      "cell_type": "code",
      "source": [
        "import pandas as pd\n",
        "import numpy as np\n",
        "\n",
        "df = pd.read_csv('/content/auto-mpg.csv', header=None)\n",
        "df.columns = ['mpg','cylinders','displacement','horsepower','weight',\n",
        "              'acceleration','model year','origin','name']\n",
        "\n",
        "df['horsepower'].replace('?', np.nan, inplace=True)      # '?'을 np.nan으로 변경\n",
        "df.dropna(subset=['horsepower'], axis=0, inplace=True)   # 누락데이터 행을 삭제\n",
        "df['horsepower'] = df['horsepower'].astype('float')      # 문자열을 실수형으로 변환"
      ],
      "metadata": {
        "id": "7SfWawSDzc3D"
      },
      "execution_count": 10,
      "outputs": []
    },
    {
      "cell_type": "markdown",
      "source": [
        "## 01)구간 분할"
      ],
      "metadata": {
        "id": "jSgvSUyk1zyJ"
      }
    },
    {
      "cell_type": "code",
      "source": [
        "# np.histogram 함수로 3개의 bin으로 나누는 경계 값의 리스트 구하기\n",
        "count, bin_dividers = np.histogram(df['horsepower'], bins=3)\n",
        "print(bin_dividers)"
      ],
      "metadata": {
        "colab": {
          "base_uri": "https://localhost:8080/"
        },
        "id": "iriQH8dA1me1",
        "outputId": "462b8ff6-1b74-4622-9836-83e6a86d29e8"
      },
      "execution_count": 11,
      "outputs": [
        {
          "output_type": "stream",
          "name": "stdout",
          "text": [
            "[ 46.         107.33333333 168.66666667 230.        ]\n"
          ]
        }
      ]
    },
    {
      "cell_type": "code",
      "source": [
        "# 3개의 bin에 이름 지정\n",
        "bin_names = ['저출력', '보통출력', '고출력']\n",
        "\n",
        "# pd.cut 함수로 각 데이터를 3개의 bin에 할당\n",
        "df['hp_bin'] = pd.cut(x=df['horsepower'],     # 데이터 배열\n",
        "                      bins=bin_dividers,      # 경계 값 리스트\n",
        "                      labels=bin_names,       # bin 이름\n",
        "                      include_lowest=True)    # 첫 경계값 포함 \n",
        "\n",
        "# horsepower 열, hp_bin 열의 첫 15행을 출력\n",
        "print(df[['horsepower', 'hp_bin']].head(15))"
      ],
      "metadata": {
        "colab": {
          "base_uri": "https://localhost:8080/"
        },
        "id": "zGfIrAoV1oGZ",
        "outputId": "ffd08d9d-cbbe-47f3-de0d-ba70a276096e"
      },
      "execution_count": 12,
      "outputs": [
        {
          "output_type": "stream",
          "name": "stdout",
          "text": [
            "    horsepower hp_bin\n",
            "0        130.0   보통출력\n",
            "1        165.0   보통출력\n",
            "2        150.0   보통출력\n",
            "3        150.0   보통출력\n",
            "4        140.0   보통출력\n",
            "5        198.0    고출력\n",
            "6        220.0    고출력\n",
            "7        215.0    고출력\n",
            "8        225.0    고출력\n",
            "9        190.0    고출력\n",
            "10       170.0    고출력\n",
            "11       160.0   보통출력\n",
            "12       150.0   보통출력\n",
            "13       225.0    고출력\n",
            "14        95.0    저출력\n"
          ]
        }
      ]
    },
    {
      "cell_type": "markdown",
      "source": [
        "## 02)더미 변수"
      ],
      "metadata": {
        "id": "Y0fcoQvw14c7"
      }
    },
    {
      "cell_type": "code",
      "source": [
        "# hp_bin 열의 범주형 데이터를 더미 변수로 변환\n",
        "horsepower_dummies = pd.get_dummies(df['hp_bin'])\n",
        "print(horsepower_dummies.head(15))"
      ],
      "metadata": {
        "colab": {
          "base_uri": "https://localhost:8080/"
        },
        "id": "fJm8WQBG1rJq",
        "outputId": "83e928bb-10bd-4bbc-848f-3b1d87a701a3"
      },
      "execution_count": 13,
      "outputs": [
        {
          "output_type": "stream",
          "name": "stdout",
          "text": [
            "    저출력  보통출력  고출력\n",
            "0     0     1    0\n",
            "1     0     1    0\n",
            "2     0     1    0\n",
            "3     0     1    0\n",
            "4     0     1    0\n",
            "5     0     0    1\n",
            "6     0     0    1\n",
            "7     0     0    1\n",
            "8     0     0    1\n",
            "9     0     0    1\n",
            "10    0     0    1\n",
            "11    0     1    0\n",
            "12    0     1    0\n",
            "13    0     0    1\n",
            "14    1     0    0\n"
          ]
        }
      ]
    },
    {
      "cell_type": "code",
      "source": [
        "# sklern 라이브러리 불러오기\n",
        "from sklearn import preprocessing    \n",
        "\n",
        "# 전처리를 위한 encoder 객체 만들기\n",
        "label_encoder = preprocessing.LabelEncoder()       # label encoder 생성\n",
        "onehot_encoder = preprocessing.OneHotEncoder()   # one hot encoder 생성\n",
        "\n",
        "# label encoder로 문자열 범주를 숫자형 범주로 변환\n",
        "onehot_labeled = label_encoder.fit_transform(df['hp_bin'].head(15))  \n",
        "print(onehot_labeled)\n",
        "print(type(onehot_labeled))"
      ],
      "metadata": {
        "colab": {
          "base_uri": "https://localhost:8080/"
        },
        "id": "w1bXXlYy2EnV",
        "outputId": "bdf7fbdc-2dfa-462e-a271-e450812277e2"
      },
      "execution_count": 15,
      "outputs": [
        {
          "output_type": "stream",
          "name": "stdout",
          "text": [
            "[1 1 1 1 1 0 0 0 0 0 0 1 1 0 2]\n",
            "<class 'numpy.ndarray'>\n"
          ]
        }
      ]
    },
    {
      "cell_type": "code",
      "source": [
        "# 2차원 행렬로 형태 변경\n",
        "onehot_reshaped = onehot_labeled.reshape(len(onehot_labeled), 1) \n",
        "print(onehot_reshaped)\n",
        "print(type(onehot_reshaped))"
      ],
      "metadata": {
        "colab": {
          "base_uri": "https://localhost:8080/"
        },
        "id": "uQwZdZUy2SBW",
        "outputId": "b1e27c08-3fca-4d5e-ddb6-64eb8a0a5755"
      },
      "execution_count": 16,
      "outputs": [
        {
          "output_type": "stream",
          "name": "stdout",
          "text": [
            "[[1]\n",
            " [1]\n",
            " [1]\n",
            " [1]\n",
            " [1]\n",
            " [0]\n",
            " [0]\n",
            " [0]\n",
            " [0]\n",
            " [0]\n",
            " [0]\n",
            " [1]\n",
            " [1]\n",
            " [0]\n",
            " [2]]\n",
            "<class 'numpy.ndarray'>\n"
          ]
        }
      ]
    },
    {
      "cell_type": "code",
      "source": [
        "# 희소행렬로 변환\n",
        "onehot_fitted = onehot_encoder.fit_transform(onehot_reshaped)\n",
        "print(onehot_fitted)\n",
        "print(type(onehot_fitted))"
      ],
      "metadata": {
        "colab": {
          "base_uri": "https://localhost:8080/"
        },
        "id": "XMW4WJGT2Wer",
        "outputId": "2a03448e-b7cc-4e8b-b395-7482a0cad793"
      },
      "execution_count": 17,
      "outputs": [
        {
          "output_type": "stream",
          "name": "stdout",
          "text": [
            "  (0, 1)\t1.0\n",
            "  (1, 1)\t1.0\n",
            "  (2, 1)\t1.0\n",
            "  (3, 1)\t1.0\n",
            "  (4, 1)\t1.0\n",
            "  (5, 0)\t1.0\n",
            "  (6, 0)\t1.0\n",
            "  (7, 0)\t1.0\n",
            "  (8, 0)\t1.0\n",
            "  (9, 0)\t1.0\n",
            "  (10, 0)\t1.0\n",
            "  (11, 1)\t1.0\n",
            "  (12, 1)\t1.0\n",
            "  (13, 0)\t1.0\n",
            "  (14, 2)\t1.0\n",
            "<class 'scipy.sparse.csr.csr_matrix'>\n"
          ]
        }
      ]
    }
  ]
}