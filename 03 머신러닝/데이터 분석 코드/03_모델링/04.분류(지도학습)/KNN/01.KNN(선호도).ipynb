{
  "nbformat": 4,
  "nbformat_minor": 0,
  "metadata": {
    "colab": {
      "name": "01_KNN(선호도).ipynb",
      "provenance": []
    },
    "kernelspec": {
      "name": "python3",
      "display_name": "Python 3"
    },
    "language_info": {
      "name": "python"
    },
    "accelerator": "GPU",
    "gpuClass": "standard"
  },
  "cells": [
    {
      "cell_type": "markdown",
      "source": [
        "# 선호도 데이터 활용"
      ],
      "metadata": {
        "id": "9A3VwP6Y5BOw"
      }
    },
    {
      "cell_type": "code",
      "execution_count": 1,
      "metadata": {
        "id": "9J7pou1I460v"
      },
      "outputs": [],
      "source": [
        "import pandas as pd\n",
        "import numpy as np\n",
        "import matplotlib.pyplot as plt\n",
        "from sklearn.preprocessing import StandardScaler\n",
        "from sklearn.neighbors import KNeighborsClassifier\n",
        "from sklearn.metrics import classification_report, confusion_matrix"
      ]
    },
    {
      "cell_type": "code",
      "source": [
        "# 데이터 불러오기\n",
        "like = pd.read_csv('/content/like.csv')\n",
        "like.columns = ['talk','book','travel','school','tall','skin','muscle','like_level']\n",
        "like.info()"
      ],
      "metadata": {
        "colab": {
          "base_uri": "https://localhost:8080/"
        },
        "id": "hcGkGCh-5JAc",
        "outputId": "6eae5a62-4be6-4a93-ca47-d2202bf4d847"
      },
      "execution_count": 2,
      "outputs": [
        {
          "output_type": "stream",
          "name": "stdout",
          "text": [
            "<class 'pandas.core.frame.DataFrame'>\n",
            "RangeIndex: 14 entries, 0 to 13\n",
            "Data columns (total 8 columns):\n",
            " #   Column      Non-Null Count  Dtype \n",
            "---  ------      --------------  ----- \n",
            " 0   talk        14 non-null     int64 \n",
            " 1   book        14 non-null     int64 \n",
            " 2   travel      14 non-null     int64 \n",
            " 3   school      14 non-null     int64 \n",
            " 4   tall        14 non-null     int64 \n",
            " 5   skin        14 non-null     int64 \n",
            " 6   muscle      14 non-null     int64 \n",
            " 7   like_level  14 non-null     object\n",
            "dtypes: int64(7), object(1)\n",
            "memory usage: 1.0+ KB\n"
          ]
        }
      ]
    },
    {
      "cell_type": "code",
      "source": [
        "# feature와 label 지정\n",
        "X = np.array(like.drop('like_level', axis=1))\n",
        "y = np.array(like.like_level)\n",
        "\n",
        "X.shape,y.shape"
      ],
      "metadata": {
        "colab": {
          "base_uri": "https://localhost:8080/"
        },
        "id": "3Kui9-v25fvS",
        "outputId": "0669c462-8106-4a80-9ad2-fcf50dafe2a6"
      },
      "execution_count": 3,
      "outputs": [
        {
          "output_type": "execute_result",
          "data": {
            "text/plain": [
              "((14, 7), (14,))"
            ]
          },
          "metadata": {},
          "execution_count": 3
        }
      ]
    },
    {
      "cell_type": "code",
      "source": [
        "# 정규화\n",
        "scaler = StandardScaler()\n",
        "X = scaler.fit(X).transform(X)\n",
        "X"
      ],
      "metadata": {
        "colab": {
          "base_uri": "https://localhost:8080/"
        },
        "id": "5JJw9MZc5ySD",
        "outputId": "56ca7c9e-eddd-421b-b318-e8ff7eb3db11"
      },
      "execution_count": 4,
      "outputs": [
        {
          "output_type": "execute_result",
          "data": {
            "text/plain": [
              "array([[-1.26962211,  1.34164079, -0.8461218 , -0.98782916,  2.06644812,\n",
              "         1.29927838, -0.59160798],\n",
              "       [ 0.21160368, -0.36590203,  0.57536283, -0.3592106 ,  0.04805693,\n",
              "        -0.09994449,  1.77482393],\n",
              "       [-0.28213825, -0.93508297,  1.04919104,  0.26940795, -0.62474013,\n",
              "         0.36646313,  1.18321596],\n",
              "       [ 1.69282948, -0.36590203,  0.10153462, -1.61644772, -1.29753719,\n",
              "        -1.96557498, -1.77482393],\n",
              "       [-0.28213825,  0.77245985, -1.31995001,  0.89802651,  0.720854  ,\n",
              "         0.83287076,  0.        ],\n",
              "       [ 0.70534562, -1.50426391,  0.10153462, -0.98782916, -1.29753719,\n",
              "        -1.03275974, -1.77482393],\n",
              "       [-0.77588018,  1.91082173,  0.10153462,  0.26940795,  0.04805693,\n",
              "         0.83287076,  0.        ],\n",
              "       [-1.26962211,  0.20327891,  1.52301925,  0.26940795, -1.29753719,\n",
              "         0.36646313,  0.59160798],\n",
              "       [ 1.19908755, -0.93508297, -1.79377823,  1.52664507,  0.04805693,\n",
              "        -1.03275974, -0.59160798],\n",
              "       [-0.28213825,  0.77245985,  0.57536283, -0.3592106 ,  0.720854  ,\n",
              "         1.29927838, -0.59160798],\n",
              "       [ 1.19908755, -0.36590203,  0.10153462, -0.98782916, -0.62474013,\n",
              "        -1.03275974,  0.59160798],\n",
              "       [-1.26962211,  0.77245985, -1.31995001,  2.15526362,  0.720854  ,\n",
              "         0.83287076,  0.        ],\n",
              "       [-0.77588018,  0.20327891,  1.52301925,  0.26940795, -0.62474013,\n",
              "         0.36646313,  1.18321596],\n",
              "       [ 1.19908755, -1.50426391, -0.37229359, -0.3592106 ,  1.39365106,\n",
              "        -1.03275974,  0.        ]])"
            ]
          },
          "metadata": {},
          "execution_count": 4
        }
      ]
    },
    {
      "cell_type": "code",
      "source": [
        "# 모델 학습\n",
        "knn = KNeighborsClassifier(n_neighbors=5)\n",
        "knn.fit(X,y)"
      ],
      "metadata": {
        "colab": {
          "base_uri": "https://localhost:8080/"
        },
        "id": "oTt9w8Xi50X7",
        "outputId": "eca32abb-187c-495c-d67c-50c72778cb4b"
      },
      "execution_count": 5,
      "outputs": [
        {
          "output_type": "execute_result",
          "data": {
            "text/plain": [
              "KNeighborsClassifier()"
            ]
          },
          "metadata": {},
          "execution_count": 5
        }
      ]
    },
    {
      "cell_type": "code",
      "source": [
        "# 원래 데이터를 넣어서 예측\n",
        "y_pred = knn.predict(X)\n",
        "y_pred"
      ],
      "metadata": {
        "colab": {
          "base_uri": "https://localhost:8080/"
        },
        "id": "rONtyQlh52Zk",
        "outputId": "1be9ac44-e90a-4fa4-c2cf-0bdef1158f54"
      },
      "execution_count": 6,
      "outputs": [
        {
          "output_type": "execute_result",
          "data": {
            "text/plain": [
              "array(['1타입', '2타입', '2타입', '3타입', '1타입', '3타입', '1타입', '2타입', '3타입',\n",
              "       '1타입', '3타입', '1타입', '2타입', '3타입'], dtype=object)"
            ]
          },
          "metadata": {},
          "execution_count": 6
        }
      ]
    },
    {
      "cell_type": "code",
      "source": [
        "y"
      ],
      "metadata": {
        "colab": {
          "base_uri": "https://localhost:8080/"
        },
        "id": "bZmYRnrZ54HG",
        "outputId": "1589a28b-3481-4a7c-ef75-a5ff6db8edaa"
      },
      "execution_count": 7,
      "outputs": [
        {
          "output_type": "execute_result",
          "data": {
            "text/plain": [
              "array(['1타입', '2타입', '2타입', '3타입', '1타입', '3타입', '1타입', '2타입', '3타입',\n",
              "       '1타입', '3타입', '1타입', '2타입', '3타입'], dtype=object)"
            ]
          },
          "metadata": {},
          "execution_count": 7
        }
      ]
    },
    {
      "cell_type": "code",
      "source": [
        "# 모델 평가\n",
        "print(f' confusion matrix : \\n {confusion_matrix(y,y_pred)} \\n')\n",
        "print(f' classification report : \\n {classification_report(y,y_pred)} \\n')"
      ],
      "metadata": {
        "colab": {
          "base_uri": "https://localhost:8080/"
        },
        "id": "Fhq4jJ6x56XR",
        "outputId": "dfa15381-4a78-4ad6-fc09-9ba7dc70d8bc"
      },
      "execution_count": 8,
      "outputs": [
        {
          "output_type": "stream",
          "name": "stdout",
          "text": [
            " confusion matrix : \n",
            " [[5 0 0]\n",
            " [0 4 0]\n",
            " [0 0 5]] \n",
            "\n",
            " classification report : \n",
            "               precision    recall  f1-score   support\n",
            "\n",
            "         1타입       1.00      1.00      1.00         5\n",
            "         2타입       1.00      1.00      1.00         4\n",
            "         3타입       1.00      1.00      1.00         5\n",
            "\n",
            "    accuracy                           1.00        14\n",
            "   macro avg       1.00      1.00      1.00        14\n",
            "weighted avg       1.00      1.00      1.00        14\n",
            " \n",
            "\n"
          ]
        }
      ]
    },
    {
      "cell_type": "code",
      "source": [
        ""
      ],
      "metadata": {
        "id": "M9YEFY7H58qA"
      },
      "execution_count": null,
      "outputs": []
    }
  ]
}