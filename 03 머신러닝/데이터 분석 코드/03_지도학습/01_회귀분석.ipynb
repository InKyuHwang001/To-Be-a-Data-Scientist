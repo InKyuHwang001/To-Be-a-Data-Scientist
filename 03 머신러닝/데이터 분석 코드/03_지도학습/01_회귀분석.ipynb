{
  "nbformat": 4,
  "nbformat_minor": 0,
  "metadata": {
    "colab": {
      "name": "01.회귀분석.ipynb",
      "provenance": []
    },
    "kernelspec": {
      "name": "python3",
      "display_name": "Python 3"
    },
    "language_info": {
      "name": "python"
    },
    "accelerator": "GPU",
    "gpuClass": "standard"
  },
  "cells": [
    {
      "cell_type": "markdown",
      "source": [
        "# 회귀분석"
      ],
      "metadata": {
        "id": "FSburut6cZ55"
      }
    },
    {
      "cell_type": "markdown",
      "source": [
        "## 01.단순 선형 회귀"
      ],
      "metadata": {
        "id": "rW7_qMpocciG"
      }
    },
    {
      "cell_type": "markdown",
      "source": [
        "### 01)XY의 형태로 저장"
      ],
      "metadata": {
        "id": "aWzunrxUdAwA"
      }
    },
    {
      "cell_type": "code",
      "execution_count": 1,
      "metadata": {
        "id": "3SV9g5micT1q"
      },
      "outputs": [],
      "source": [
        "import pandas as pd\n",
        "import numpy as np\n",
        "import matplotlib.pyplot as plt\n",
        "from sklearn.linear_model import LinearRegression"
      ]
    },
    {
      "cell_type": "code",
      "source": [
        "X = [8.70153760, 3.90825773, 1.89362433, 3.28730045, 7.39333004, 2.98984649, 2.25757240, 9.84450732, 9.94589513, 5.48321616]\n",
        "Y = [5.64413093, 3.75876583, 3.87233310, 4.40990425, 6.43845020, 4.02827829, 2.26105955, 7.15768995, 6.29097441, 5.19692852]\n",
        "\"\"\"\n",
        "1. X의 형태를 변환하여 train_X에 저장합니다.\n",
        "\"\"\"\n",
        "train_X = pd.DataFrame(X, columns=['X'])\n",
        "\n",
        "\"\"\"\n",
        "2. Y의 형태를 변환하여 train_Y에 저장합니다.\n",
        "\"\"\"\n",
        "train_Y = pd.Series(Y)"
      ],
      "metadata": {
        "id": "u-jRty3yc0Ct"
      },
      "execution_count": 2,
      "outputs": []
    },
    {
      "cell_type": "markdown",
      "source": [
        "### 02) 변환된 데이터를 출력"
      ],
      "metadata": {
        "id": "ELFtz1avdLEg"
      }
    },
    {
      "cell_type": "code",
      "source": [
        "#2차원\n",
        "print('전 처리한 X 데이터: \\n {}'.format(train_X))\n",
        "print('전 처리한 X 데이터 shape: {}\\n'.format(train_X.shape))\n",
        "\n",
        "#1차원\n",
        "print('전 처리한 Y 데이터: \\n {}'.format(train_Y))\n",
        "print('전 처리한 Y 데이터 shape: {}'.format(train_Y.shape))"
      ],
      "metadata": {
        "colab": {
          "base_uri": "https://localhost:8080/"
        },
        "id": "MkdGqOOHc8ta",
        "outputId": "ed82cbf8-e361-4fda-b35c-54a8c68d1f14"
      },
      "execution_count": 3,
      "outputs": [
        {
          "output_type": "stream",
          "name": "stdout",
          "text": [
            "전 처리한 X 데이터: \n",
            "           X\n",
            "0  8.701538\n",
            "1  3.908258\n",
            "2  1.893624\n",
            "3  3.287300\n",
            "4  7.393330\n",
            "5  2.989846\n",
            "6  2.257572\n",
            "7  9.844507\n",
            "8  9.945895\n",
            "9  5.483216\n",
            "전 처리한 X 데이터 shape: (10, 1)\n",
            "\n",
            "전 처리한 Y 데이터: \n",
            " 0    5.644131\n",
            "1    3.758766\n",
            "2    3.872333\n",
            "3    4.409904\n",
            "4    6.438450\n",
            "5    4.028278\n",
            "6    2.261060\n",
            "7    7.157690\n",
            "8    6.290974\n",
            "9    5.196929\n",
            "dtype: float64\n",
            "전 처리한 Y 데이터 shape: (10,)\n"
          ]
        }
      ]
    },
    {
      "cell_type": "markdown",
      "source": [
        "### 03) 모델 초기화"
      ],
      "metadata": {
        "id": "NeRhARthdb5E"
      }
    },
    {
      "cell_type": "markdown",
      "source": [
        "- train, test 구분\n",
        "- But, 자료부족으로 train data만 가지고함"
      ],
      "metadata": {
        "id": "T-ljpQ8ZdlQA"
      }
    },
    {
      "cell_type": "code",
      "source": [
        "lrmodel=LinearRegression()\n",
        "lrmodel.fit(train_X, train_Y)"
      ],
      "metadata": {
        "colab": {
          "base_uri": "https://localhost:8080/"
        },
        "id": "5X6zw0L6dY1g",
        "outputId": "0d059dab-0dc9-4677-ffe7-d5f19bf83d1f"
      },
      "execution_count": 4,
      "outputs": [
        {
          "output_type": "execute_result",
          "data": {
            "text/plain": [
              "LinearRegression()"
            ]
          },
          "metadata": {},
          "execution_count": 4
        }
      ]
    },
    {
      "cell_type": "markdown",
      "source": [
        "### 04) 학습결과 시각화"
      ],
      "metadata": {
        "id": "AbdGUQZzd88V"
      }
    },
    {
      "cell_type": "code",
      "source": [
        "plt.scatter(X,Y)#산점도\n",
        "plt.plot([0,10],[lrmodel.intercept_, 10*lrmodel.coef_[0]+lrmodel.intercept_], c='r')\n",
        "plt.xlim(0,10)\n",
        "plt.ylim(0,10)\n",
        "plt.title('Result of Train')\n",
        "plt.show()"
      ],
      "metadata": {
        "colab": {
          "base_uri": "https://localhost:8080/",
          "height": 281
        },
        "id": "Z4Ltssg7d7lB",
        "outputId": "45398cbd-aec2-4423-85b5-0bcecdfb05f6"
      },
      "execution_count": 5,
      "outputs": [
        {
          "output_type": "display_data",
          "data": {
            "text/plain": [
              "<Figure size 432x288 with 1 Axes>"
            ],
            "image/png": "[encoded data removed]"
          },
          "metadata": {
            "needs_background": "light"
          }
        }
      ]
    },
    {
      "cell_type": "markdown",
      "source": [
        "#### 계수, beta값, 상수"
      ],
      "metadata": {
        "id": "rDGHK8a4eKLM"
      }
    },
    {
      "cell_type": "code",
      "source": [
        "lrmodel.coef_ #계수\n",
        "lrmodel.coef_[0]\n",
        "\n",
        "lrmodel.intercept_ #상수"
      ],
      "metadata": {
        "colab": {
          "base_uri": "https://localhost:8080/"
        },
        "id": "caRmfLCdeD9P",
        "outputId": "5a682060-b65a-4cdb-9a4b-f102e6735777"
      },
      "execution_count": 6,
      "outputs": [
        {
          "output_type": "execute_result",
          "data": {
            "text/plain": [
              "2.5061811708934933"
            ]
          },
          "metadata": {},
          "execution_count": 6
        }
      ]
    },
    {
      "cell_type": "markdown",
      "source": [
        "### 05)단순 선형회귀 예측 정리"
      ],
      "metadata": {
        "id": "JkNIQksoemvE"
      }
    },
    {
      "cell_type": "code",
      "source": [
        "import matplotlib.pyplot as plt\n",
        "import pandas as pd\n",
        "import numpy as np\n",
        "from sklearn.linear_model import LinearRegression\n",
        "\n",
        "X = [8.70153760, 3.90825773, 1.89362433, 3.28730045, 7.39333004, 2.98984649, 2.25757240, 9.84450732, 9.94589513, 5.48321616]\n",
        "Y = [5.64413093, 3.75876583, 3.87233310, 4.40990425, 6.43845020, 4.02827829, 2.26105955, 7.15768995, 6.29097441, 5.19692852]\n",
        "\n",
        "train_X = pd.DataFrame(X, columns=['X'])\n",
        "train_Y = pd.Series(Y)\n",
        "\n",
        "lrmodel = LinearRegression()\n",
        "lrmodel.fit(train_X, train_Y)\n",
        "\n",
        "#train_X의 예측\n",
        "pred_X=lrmodel.predict(train_X)#나누지 않아서 train_X로 확인함\n",
        "\n",
        "print('train_X 예측값:\\n{}\\n'.format(pred_X))\n",
        "print('실제값:\\n{}'.format(train_Y))"
      ],
      "metadata": {
        "colab": {
          "base_uri": "https://localhost:8080/"
        },
        "id": "eM9SNuSdejiL",
        "outputId": "51016a06-62c8-4d7b-f354-5d5c72d3561f"
      },
      "execution_count": 8,
      "outputs": [
        {
          "output_type": "stream",
          "name": "stdout",
          "text": [
            "train_X 예측값:\n",
            "[6.2546398  4.18978504 3.32191889 3.92228833 5.6910886  3.79415077\n",
            " 3.47870087 6.74700964 6.7906856  4.86824749]\n",
            "\n",
            "실제값:\n",
            "0    5.644131\n",
            "1    3.758766\n",
            "2    3.872333\n",
            "3    4.409904\n",
            "4    6.438450\n",
            "5    4.028278\n",
            "6    2.261060\n",
            "7    7.157690\n",
            "8    6.290974\n",
            "9    5.196929\n",
            "dtype: float64\n"
          ]
        }
      ]
    },
    {
      "cell_type": "markdown",
      "source": [
        "## 02.다중 선형회귀"
      ],
      "metadata": {
        "id": "SmFCdHzWfKNq"
      }
    },
    {
      "cell_type": "markdown",
      "source": [
        "### 01) 데이터 전처리"
      ],
      "metadata": {
        "id": "wQlV8-eFfZy9"
      }
    },
    {
      "cell_type": "code",
      "source": [
        "import matplotlib.pyplot as plt\n",
        "import pandas as pd\n",
        "import numpy as np\n",
        "from sklearn.linear_model import LinearRegression\n",
        "from sklearn.metrics import r2_score\n",
        "from sklearn.model_selection import train_test_split"
      ],
      "metadata": {
        "id": "f7CevLl4e_FA"
      },
      "execution_count": 1,
      "outputs": []
    },
    {
      "cell_type": "code",
      "source": [
        "df=pd.read_csv('/content/Advertising.csv')\n",
        "df.head()"
      ],
      "metadata": {
        "colab": {
          "base_uri": "https://localhost:8080/",
          "height": 206
        },
        "id": "QxyspA8qf6-e",
        "outputId": "28cd5da8-e446-4f5c-ce9d-6715a007d44e"
      },
      "execution_count": 5,
      "outputs": [
        {
          "output_type": "execute_result",
          "data": {
            "text/plain": [
              "   Unnamed: 0     FB    TV  Newspaper  Sales\n",
              "0           1  230.1  37.8       69.2   22.1\n",
              "1           2   44.5  39.3       45.1   10.4\n",
              "2           3   17.2  45.9       69.3    9.3\n",
              "3           4  151.5  41.3       58.5   18.5\n",
              "4           5  180.8  10.8       58.4   12.9"
            ],
            "text/html": [
              "\n",
              "  <div id=\"df-b13a7f2f-b99e-430d-9932-6a117417855e\">\n",
              "    <div class=\"colab-df-container\">\n",
              "      <div>\n",
              "<style scoped>\n",
              "    .dataframe tbody tr th:only-of-type {\n",
              "        vertical-align: middle;\n",
              "    }\n",
              "\n",
              "    .dataframe tbody tr th {\n",
              "        vertical-align: top;\n",
              "    }\n",
              "\n",
              "    .dataframe thead th {\n",
              "        text-align: right;\n",
              "    }\n",
              "</style>\n",
              "<table border=\"1\" class=\"dataframe\">\n",
              "  <thead>\n",
              "    <tr style=\"text-align: right;\">\n",
              "      <th></th>\n",
              "      <th>Unnamed: 0</th>\n",
              "      <th>FB</th>\n",
              "      <th>TV</th>\n",
              "      <th>Newspaper</th>\n",
              "      <th>Sales</th>\n",
              "    </tr>\n",
              "  </thead>\n",
              "  <tbody>\n",
              "    <tr>\n",
              "      <th>0</th>\n",
              "      <td>1</td>\n",
              "      <td>230.1</td>\n",
              "      <td>37.8</td>\n",
              "      <td>69.2</td>\n",
              "      <td>22.1</td>\n",
              "    </tr>\n",
              "    <tr>\n",
              "      <th>1</th>\n",
              "      <td>2</td>\n",
              "      <td>44.5</td>\n",
              "      <td>39.3</td>\n",
              "      <td>45.1</td>\n",
              "      <td>10.4</td>\n",
              "    </tr>\n",
              "    <tr>\n",
              "      <th>2</th>\n",
              "      <td>3</td>\n",
              "      <td>17.2</td>\n",
              "      <td>45.9</td>\n",
              "      <td>69.3</td>\n",
              "      <td>9.3</td>\n",
              "    </tr>\n",
              "    <tr>\n",
              "      <th>3</th>\n",
              "      <td>4</td>\n",
              "      <td>151.5</td>\n",
              "      <td>41.3</td>\n",
              "      <td>58.5</td>\n",
              "      <td>18.5</td>\n",
              "    </tr>\n",
              "    <tr>\n",
              "      <th>4</th>\n",
              "      <td>5</td>\n",
              "      <td>180.8</td>\n",
              "      <td>10.8</td>\n",
              "      <td>58.4</td>\n",
              "      <td>12.9</td>\n",
              "    </tr>\n",
              "  </tbody>\n",
              "</table>\n",
              "</div>\n",
              "      <button class=\"colab-df-convert\" onclick=\"convertToInteractive('df-b13a7f2f-b99e-430d-9932-6a117417855e')\"\n",
              "              title=\"Convert this dataframe to an interactive table.\"\n",
              "              style=\"display:none;\">\n",
              "        \n",
              "  <svg xmlns=\"http://www.w3.org/2000/svg\" height=\"24px\"viewBox=\"0 0 24 24\"\n",
              "       width=\"24px\">\n",
              "    <path d=\"M0 0h24v24H0V0z\" fill=\"none\"/>\n",
              "    <path d=\"M18.56 5.44l.94 2.06.94-2.06 2.06-.94-2.06-.94-.94-2.06-.94 2.06-2.06.94zm-11 1L8.5 8.5l.94-2.06 2.06-.94-2.06-.94L8.5 2.5l-.94 2.06-2.06.94zm10 10l.94 2.06.94-2.06 2.06-.94-2.06-.94-.94-2.06-.94 2.06-2.06.94z\"/><path d=\"M17.41 7.96l-1.37-1.37c-.4-.4-.92-.59-1.43-.59-.52 0-1.04.2-1.43.59L10.3 9.45l-7.72 7.72c-.78.78-.78 2.05 0 2.83L4 21.41c.39.39.9.59 1.41.59.51 0 1.02-.2 1.41-.59l7.78-7.78 2.81-2.81c.8-.78.8-2.07 0-2.86zM5.41 20L4 18.59l7.72-7.72 1.47 1.35L5.41 20z\"/>\n",
              "  </svg>\n",
              "      </button>\n",
              "      \n",
              "  <style>\n",
              "    .colab-df-container {\n",
              "      display:flex;\n",
              "      flex-wrap:wrap;\n",
              "      gap: 12px;\n",
              "    }\n",
              "\n",
              "    .colab-df-convert {\n",
              "      background-color: #E8F0FE;\n",
              "      border: none;\n",
              "      border-radius: 50%;\n",
              "      cursor: pointer;\n",
              "      display: none;\n",
              "      fill: #1967D2;\n",
              "      height: 32px;\n",
              "      padding: 0 0 0 0;\n",
              "      width: 32px;\n",
              "    }\n",
              "\n",
              "    .colab-df-convert:hover {\n",
              "      background-color: #E2EBFA;\n",
              "      box-shadow: 0px 1px 2px rgba(60, 64, 67, 0.3), 0px 1px 3px 1px rgba(60, 64, 67, 0.15);\n",
              "      fill: #174EA6;\n",
              "    }\n",
              "\n",
              "    [theme=dark] .colab-df-convert {\n",
              "      background-color: #3B4455;\n",
              "      fill: #D2E3FC;\n",
              "    }\n",
              "\n",
              "    [theme=dark] .colab-df-convert:hover {\n",
              "      background-color: #434B5C;\n",
              "      box-shadow: 0px 1px 3px 1px rgba(0, 0, 0, 0.15);\n",
              "      filter: drop-shadow(0px 1px 2px rgba(0, 0, 0, 0.3));\n",
              "      fill: #FFFFFF;\n",
              "    }\n",
              "  </style>\n",
              "\n",
              "      <script>\n",
              "        const buttonEl =\n",
              "          document.querySelector('#df-b13a7f2f-b99e-430d-9932-6a117417855e button.colab-df-convert');\n",
              "        buttonEl.style.display =\n",
              "          google.colab.kernel.accessAllowed ? 'block' : 'none';\n",
              "\n",
              "        async function convertToInteractive(key) {\n",
              "          const element = document.querySelector('#df-b13a7f2f-b99e-430d-9932-6a117417855e');\n",
              "          const dataTable =\n",
              "            await google.colab.kernel.invokeFunction('convertToInteractive',\n",
              "                                                     [key], {});\n",
              "          if (!dataTable) return;\n",
              "\n",
              "          const docLinkHtml = 'Like what you see? Visit the ' +\n",
              "            '<a target=\"_blank\" href=https://colab.research.google.com/notebooks/data_table.ipynb>data table notebook</a>'\n",
              "            + ' to learn more about interactive tables.';\n",
              "          element.innerHTML = '';\n",
              "          dataTable['output_type'] = 'display_data';\n",
              "          await google.colab.output.renderOutput(dataTable, element);\n",
              "          const docLink = document.createElement('div');\n",
              "          docLink.innerHTML = docLinkHtml;\n",
              "          element.appendChild(docLink);\n",
              "        }\n",
              "      </script>\n",
              "    </div>\n",
              "  </div>\n",
              "  "
            ]
          },
          "metadata": {},
          "execution_count": 5
        }
      ]
    },
    {
      "cell_type": "code",
      "source": [
        "df=df.drop(columns=['Unnamed: 0'])\n",
        "df.head()"
      ],
      "metadata": {
        "colab": {
          "base_uri": "https://localhost:8080/",
          "height": 206
        },
        "id": "-_aeJRXagHBX",
        "outputId": "3005d401-7c2a-4f3d-8ea2-d195bb2a884f"
      },
      "execution_count": 6,
      "outputs": [
        {
          "output_type": "execute_result",
          "data": {
            "text/plain": [
              "      FB    TV  Newspaper  Sales\n",
              "0  230.1  37.8       69.2   22.1\n",
              "1   44.5  39.3       45.1   10.4\n",
              "2   17.2  45.9       69.3    9.3\n",
              "3  151.5  41.3       58.5   18.5\n",
              "4  180.8  10.8       58.4   12.9"
            ],
            "text/html": [
              "\n",
              "  <div id=\"df-47bf37f1-8f56-4c9d-bba3-cbd1c4660e4c\">\n",
              "    <div class=\"colab-df-container\">\n",
              "      <div>\n",
              "<style scoped>\n",
              "    .dataframe tbody tr th:only-of-type {\n",
              "        vertical-align: middle;\n",
              "    }\n",
              "\n",
              "    .dataframe tbody tr th {\n",
              "        vertical-align: top;\n",
              "    }\n",
              "\n",
              "    .dataframe thead th {\n",
              "        text-align: right;\n",
              "    }\n",
              "</style>\n",
              "<table border=\"1\" class=\"dataframe\">\n",
              "  <thead>\n",
              "    <tr style=\"text-align: right;\">\n",
              "      <th></th>\n",
              "      <th>FB</th>\n",
              "      <th>TV</th>\n",
              "      <th>Newspaper</th>\n",
              "      <th>Sales</th>\n",
              "    </tr>\n",
              "  </thead>\n",
              "  <tbody>\n",
              "    <tr>\n",
              "      <th>0</th>\n",
              "      <td>230.1</td>\n",
              "      <td>37.8</td>\n",
              "      <td>69.2</td>\n",
              "      <td>22.1</td>\n",
              "    </tr>\n",
              "    <tr>\n",
              "      <th>1</th>\n",
              "      <td>44.5</td>\n",
              "      <td>39.3</td>\n",
              "      <td>45.1</td>\n",
              "      <td>10.4</td>\n",
              "    </tr>\n",
              "    <tr>\n",
              "      <th>2</th>\n",
              "      <td>17.2</td>\n",
              "      <td>45.9</td>\n",
              "      <td>69.3</td>\n",
              "      <td>9.3</td>\n",
              "    </tr>\n",
              "    <tr>\n",
              "      <th>3</th>\n",
              "      <td>151.5</td>\n",
              "      <td>41.3</td>\n",
              "      <td>58.5</td>\n",
              "      <td>18.5</td>\n",
              "    </tr>\n",
              "    <tr>\n",
              "      <th>4</th>\n",
              "      <td>180.8</td>\n",
              "      <td>10.8</td>\n",
              "      <td>58.4</td>\n",
              "      <td>12.9</td>\n",
              "    </tr>\n",
              "  </tbody>\n",
              "</table>\n",
              "</div>\n",
              "      <button class=\"colab-df-convert\" onclick=\"convertToInteractive('df-47bf37f1-8f56-4c9d-bba3-cbd1c4660e4c')\"\n",
              "              title=\"Convert this dataframe to an interactive table.\"\n",
              "              style=\"display:none;\">\n",
              "        \n",
              "  <svg xmlns=\"http://www.w3.org/2000/svg\" height=\"24px\"viewBox=\"0 0 24 24\"\n",
              "       width=\"24px\">\n",
              "    <path d=\"M0 0h24v24H0V0z\" fill=\"none\"/>\n",
              "    <path d=\"M18.56 5.44l.94 2.06.94-2.06 2.06-.94-2.06-.94-.94-2.06-.94 2.06-2.06.94zm-11 1L8.5 8.5l.94-2.06 2.06-.94-2.06-.94L8.5 2.5l-.94 2.06-2.06.94zm10 10l.94 2.06.94-2.06 2.06-.94-2.06-.94-.94-2.06-.94 2.06-2.06.94z\"/><path d=\"M17.41 7.96l-1.37-1.37c-.4-.4-.92-.59-1.43-.59-.52 0-1.04.2-1.43.59L10.3 9.45l-7.72 7.72c-.78.78-.78 2.05 0 2.83L4 21.41c.39.39.9.59 1.41.59.51 0 1.02-.2 1.41-.59l7.78-7.78 2.81-2.81c.8-.78.8-2.07 0-2.86zM5.41 20L4 18.59l7.72-7.72 1.47 1.35L5.41 20z\"/>\n",
              "  </svg>\n",
              "      </button>\n",
              "      \n",
              "  <style>\n",
              "    .colab-df-container {\n",
              "      display:flex;\n",
              "      flex-wrap:wrap;\n",
              "      gap: 12px;\n",
              "    }\n",
              "\n",
              "    .colab-df-convert {\n",
              "      background-color: #E8F0FE;\n",
              "      border: none;\n",
              "      border-radius: 50%;\n",
              "      cursor: pointer;\n",
              "      display: none;\n",
              "      fill: #1967D2;\n",
              "      height: 32px;\n",
              "      padding: 0 0 0 0;\n",
              "      width: 32px;\n",
              "    }\n",
              "\n",
              "    .colab-df-convert:hover {\n",
              "      background-color: #E2EBFA;\n",
              "      box-shadow: 0px 1px 2px rgba(60, 64, 67, 0.3), 0px 1px 3px 1px rgba(60, 64, 67, 0.15);\n",
              "      fill: #174EA6;\n",
              "    }\n",
              "\n",
              "    [theme=dark] .colab-df-convert {\n",
              "      background-color: #3B4455;\n",
              "      fill: #D2E3FC;\n",
              "    }\n",
              "\n",
              "    [theme=dark] .colab-df-convert:hover {\n",
              "      background-color: #434B5C;\n",
              "      box-shadow: 0px 1px 3px 1px rgba(0, 0, 0, 0.15);\n",
              "      filter: drop-shadow(0px 1px 2px rgba(0, 0, 0, 0.3));\n",
              "      fill: #FFFFFF;\n",
              "    }\n",
              "  </style>\n",
              "\n",
              "      <script>\n",
              "        const buttonEl =\n",
              "          document.querySelector('#df-47bf37f1-8f56-4c9d-bba3-cbd1c4660e4c button.colab-df-convert');\n",
              "        buttonEl.style.display =\n",
              "          google.colab.kernel.accessAllowed ? 'block' : 'none';\n",
              "\n",
              "        async function convertToInteractive(key) {\n",
              "          const element = document.querySelector('#df-47bf37f1-8f56-4c9d-bba3-cbd1c4660e4c');\n",
              "          const dataTable =\n",
              "            await google.colab.kernel.invokeFunction('convertToInteractive',\n",
              "                                                     [key], {});\n",
              "          if (!dataTable) return;\n",
              "\n",
              "          const docLinkHtml = 'Like what you see? Visit the ' +\n",
              "            '<a target=\"_blank\" href=https://colab.research.google.com/notebooks/data_table.ipynb>data table notebook</a>'\n",
              "            + ' to learn more about interactive tables.';\n",
              "          element.innerHTML = '';\n",
              "          dataTable['output_type'] = 'display_data';\n",
              "          await google.colab.output.renderOutput(dataTable, element);\n",
              "          const docLink = document.createElement('div');\n",
              "          docLink.innerHTML = docLinkHtml;\n",
              "          element.appendChild(docLink);\n",
              "        }\n",
              "      </script>\n",
              "    </div>\n",
              "  </div>\n",
              "  "
            ]
          },
          "metadata": {},
          "execution_count": 6
        }
      ]
    },
    {
      "cell_type": "code",
      "source": [
        "df.info()"
      ],
      "metadata": {
        "colab": {
          "base_uri": "https://localhost:8080/"
        },
        "id": "mHd4b_RPgVBo",
        "outputId": "3bac4974-8b3d-4071-9d68-4be8a0e0f148"
      },
      "execution_count": 7,
      "outputs": [
        {
          "output_type": "stream",
          "name": "stdout",
          "text": [
            "<class 'pandas.core.frame.DataFrame'>\n",
            "RangeIndex: 200 entries, 0 to 199\n",
            "Data columns (total 4 columns):\n",
            " #   Column     Non-Null Count  Dtype  \n",
            "---  ------     --------------  -----  \n",
            " 0   FB         200 non-null    float64\n",
            " 1   TV         200 non-null    float64\n",
            " 2   Newspaper  200 non-null    float64\n",
            " 3   Sales      200 non-null    float64\n",
            "dtypes: float64(4)\n",
            "memory usage: 6.4 KB\n"
          ]
        }
      ]
    },
    {
      "cell_type": "markdown",
      "source": [
        "### 02) XY의 형태로 저장"
      ],
      "metadata": {
        "id": "TB36M01LghCO"
      }
    },
    {
      "cell_type": "code",
      "source": [
        "X=df.iloc[:,:-1]\n",
        "Y=df.iloc[:,-1]\n",
        "\n",
        "# #기초버젼\n",
        "# X = df.drop(columns='Sales')\n",
        "# Y = df.Sales"
      ],
      "metadata": {
        "id": "eCe8QLcggch0"
      },
      "execution_count": 8,
      "outputs": []
    },
    {
      "cell_type": "markdown",
      "source": [
        "### 03) 학습용 테스트 셋 분리"
      ],
      "metadata": {
        "id": "9Tzn34D4g-G8"
      }
    },
    {
      "cell_type": "code",
      "source": [
        "train_X,test_X,train_Y,test_Y=train_test_split(X,Y, test_size=0.2, random_state=42)\n",
        "#print(train_X)\n",
        "#print(test_X)\n",
        "#print(train_Y)\n",
        "#print(test_Y)"
      ],
      "metadata": {
        "id": "TiqBWKpHg83B"
      },
      "execution_count": 11,
      "outputs": []
    },
    {
      "cell_type": "markdown",
      "source": [
        "### 04) 학습"
      ],
      "metadata": {
        "id": "0LFDLsokhOyY"
      }
    },
    {
      "cell_type": "code",
      "source": [
        "lrmodel = LinearRegression()\n",
        "lrmodel.fit(train_X, train_Y) #반드시, train data set"
      ],
      "metadata": {
        "colab": {
          "base_uri": "https://localhost:8080/"
        },
        "id": "CfvliPSEhNiB",
        "outputId": "9de8a536-0ce2-4c1e-8603-9b537bcb494c"
      },
      "execution_count": 12,
      "outputs": [
        {
          "output_type": "execute_result",
          "data": {
            "text/plain": [
              "LinearRegression()"
            ]
          },
          "metadata": {},
          "execution_count": 12
        }
      ]
    },
    {
      "cell_type": "markdown",
      "source": [
        "### 05) 학습된 파라미터 값 불러오기"
      ],
      "metadata": {
        "id": "m3kJP958hkcF"
      }
    },
    {
      "cell_type": "code",
      "source": [
        "beta_0=lrmodel.intercept_#y절편\n",
        "beta_1=lrmodel.coef_[0]  #1번째 변수에 대한 계수\n",
        "beta_2=lrmodel.coef_[1]  #2번째 변수에 대한 계수\n",
        "beta_3=lrmodel.coef_[2]  #3번째 변수에 대한 계수\n",
        "\n",
        "print(beta_0)\n",
        "print(beta_1)\n",
        "print(beta_2)\n",
        "print(beta_3)"
      ],
      "metadata": {
        "colab": {
          "base_uri": "https://localhost:8080/"
        },
        "id": "FqovEkAVhXvB",
        "outputId": "0865657c-b077-4faa-9e08-0fdfd8c997cd"
      },
      "execution_count": 13,
      "outputs": [
        {
          "output_type": "stream",
          "name": "stdout",
          "text": [
            "2.979067338122629\n",
            "0.044729517468716326\n",
            "0.18919505423437652\n",
            "0.0027611143413671935\n"
          ]
        }
      ]
    },
    {
      "cell_type": "markdown",
      "source": [
        "### 06) 다중회기분석 예측"
      ],
      "metadata": {
        "id": "PDYCgWEph21D"
      }
    },
    {
      "cell_type": "code",
      "source": [
        "lrmodel.predict(test_X)"
      ],
      "metadata": {
        "colab": {
          "base_uri": "https://localhost:8080/"
        },
        "id": "qy9WVQq6hz8d",
        "outputId": "a67c52a9-0e21-43b2-ef59-eb477b92caf9"
      },
      "execution_count": 14,
      "outputs": [
        {
          "output_type": "execute_result",
          "data": {
            "text/plain": [
              "array([16.4080242 , 20.88988209, 21.55384318, 10.60850256, 22.11237326,\n",
              "       13.10559172, 21.05719192,  7.46101034, 13.60634581, 15.15506967,\n",
              "        9.04831992,  6.65328312, 14.34554487,  8.90349333,  9.68959028,\n",
              "       12.16494386,  8.73628397, 16.26507258, 10.27759582, 18.83109103,\n",
              "       19.56036653, 13.25103464, 12.33620695, 21.30695132,  7.82740305,\n",
              "        5.80957448, 20.75753231, 11.98138077,  9.18349576,  8.5066991 ,\n",
              "       12.46646769, 10.00337695, 21.3876709 , 12.24966368, 18.26661538,\n",
              "       20.13766267, 14.05514005, 20.85411186, 11.0174441 ,  4.56899622])"
            ]
          },
          "metadata": {},
          "execution_count": 14
        }
      ]
    },
    {
      "cell_type": "code",
      "source": [
        "df1=pd.DataFrame(np.array([[0,0,0],[1,0,0],[0,1,0],[0,0,1],[1,1,1]]),columns=['FB','TV','Newspaper'])\n",
        "df1"
      ],
      "metadata": {
        "colab": {
          "base_uri": "https://localhost:8080/",
          "height": 206
        },
        "id": "isuvsgO2iBAL",
        "outputId": "37a05fb0-1b7d-4506-a682-522544f5ec09"
      },
      "execution_count": 15,
      "outputs": [
        {
          "output_type": "execute_result",
          "data": {
            "text/plain": [
              "   FB  TV  Newspaper\n",
              "0   0   0          0\n",
              "1   1   0          0\n",
              "2   0   1          0\n",
              "3   0   0          1\n",
              "4   1   1          1"
            ],
            "text/html": [
              "\n",
              "  <div id=\"df-35e9a42a-385c-47ea-8321-e40093ee1100\">\n",
              "    <div class=\"colab-df-container\">\n",
              "      <div>\n",
              "<style scoped>\n",
              "    .dataframe tbody tr th:only-of-type {\n",
              "        vertical-align: middle;\n",
              "    }\n",
              "\n",
              "    .dataframe tbody tr th {\n",
              "        vertical-align: top;\n",
              "    }\n",
              "\n",
              "    .dataframe thead th {\n",
              "        text-align: right;\n",
              "    }\n",
              "</style>\n",
              "<table border=\"1\" class=\"dataframe\">\n",
              "  <thead>\n",
              "    <tr style=\"text-align: right;\">\n",
              "      <th></th>\n",
              "      <th>FB</th>\n",
              "      <th>TV</th>\n",
              "      <th>Newspaper</th>\n",
              "    </tr>\n",
              "  </thead>\n",
              "  <tbody>\n",
              "    <tr>\n",
              "      <th>0</th>\n",
              "      <td>0</td>\n",
              "      <td>0</td>\n",
              "      <td>0</td>\n",
              "    </tr>\n",
              "    <tr>\n",
              "      <th>1</th>\n",
              "      <td>1</td>\n",
              "      <td>0</td>\n",
              "      <td>0</td>\n",
              "    </tr>\n",
              "    <tr>\n",
              "      <th>2</th>\n",
              "      <td>0</td>\n",
              "      <td>1</td>\n",
              "      <td>0</td>\n",
              "    </tr>\n",
              "    <tr>\n",
              "      <th>3</th>\n",
              "      <td>0</td>\n",
              "      <td>0</td>\n",
              "      <td>1</td>\n",
              "    </tr>\n",
              "    <tr>\n",
              "      <th>4</th>\n",
              "      <td>1</td>\n",
              "      <td>1</td>\n",
              "      <td>1</td>\n",
              "    </tr>\n",
              "  </tbody>\n",
              "</table>\n",
              "</div>\n",
              "      <button class=\"colab-df-convert\" onclick=\"convertToInteractive('df-35e9a42a-385c-47ea-8321-e40093ee1100')\"\n",
              "              title=\"Convert this dataframe to an interactive table.\"\n",
              "              style=\"display:none;\">\n",
              "        \n",
              "  <svg xmlns=\"http://www.w3.org/2000/svg\" height=\"24px\"viewBox=\"0 0 24 24\"\n",
              "       width=\"24px\">\n",
              "    <path d=\"M0 0h24v24H0V0z\" fill=\"none\"/>\n",
              "    <path d=\"M18.56 5.44l.94 2.06.94-2.06 2.06-.94-2.06-.94-.94-2.06-.94 2.06-2.06.94zm-11 1L8.5 8.5l.94-2.06 2.06-.94-2.06-.94L8.5 2.5l-.94 2.06-2.06.94zm10 10l.94 2.06.94-2.06 2.06-.94-2.06-.94-.94-2.06-.94 2.06-2.06.94z\"/><path d=\"M17.41 7.96l-1.37-1.37c-.4-.4-.92-.59-1.43-.59-.52 0-1.04.2-1.43.59L10.3 9.45l-7.72 7.72c-.78.78-.78 2.05 0 2.83L4 21.41c.39.39.9.59 1.41.59.51 0 1.02-.2 1.41-.59l7.78-7.78 2.81-2.81c.8-.78.8-2.07 0-2.86zM5.41 20L4 18.59l7.72-7.72 1.47 1.35L5.41 20z\"/>\n",
              "  </svg>\n",
              "      </button>\n",
              "      \n",
              "  <style>\n",
              "    .colab-df-container {\n",
              "      display:flex;\n",
              "      flex-wrap:wrap;\n",
              "      gap: 12px;\n",
              "    }\n",
              "\n",
              "    .colab-df-convert {\n",
              "      background-color: #E8F0FE;\n",
              "      border: none;\n",
              "      border-radius: 50%;\n",
              "      cursor: pointer;\n",
              "      display: none;\n",
              "      fill: #1967D2;\n",
              "      height: 32px;\n",
              "      padding: 0 0 0 0;\n",
              "      width: 32px;\n",
              "    }\n",
              "\n",
              "    .colab-df-convert:hover {\n",
              "      background-color: #E2EBFA;\n",
              "      box-shadow: 0px 1px 2px rgba(60, 64, 67, 0.3), 0px 1px 3px 1px rgba(60, 64, 67, 0.15);\n",
              "      fill: #174EA6;\n",
              "    }\n",
              "\n",
              "    [theme=dark] .colab-df-convert {\n",
              "      background-color: #3B4455;\n",
              "      fill: #D2E3FC;\n",
              "    }\n",
              "\n",
              "    [theme=dark] .colab-df-convert:hover {\n",
              "      background-color: #434B5C;\n",
              "      box-shadow: 0px 1px 3px 1px rgba(0, 0, 0, 0.15);\n",
              "      filter: drop-shadow(0px 1px 2px rgba(0, 0, 0, 0.3));\n",
              "      fill: #FFFFFF;\n",
              "    }\n",
              "  </style>\n",
              "\n",
              "      <script>\n",
              "        const buttonEl =\n",
              "          document.querySelector('#df-35e9a42a-385c-47ea-8321-e40093ee1100 button.colab-df-convert');\n",
              "        buttonEl.style.display =\n",
              "          google.colab.kernel.accessAllowed ? 'block' : 'none';\n",
              "\n",
              "        async function convertToInteractive(key) {\n",
              "          const element = document.querySelector('#df-35e9a42a-385c-47ea-8321-e40093ee1100');\n",
              "          const dataTable =\n",
              "            await google.colab.kernel.invokeFunction('convertToInteractive',\n",
              "                                                     [key], {});\n",
              "          if (!dataTable) return;\n",
              "\n",
              "          const docLinkHtml = 'Like what you see? Visit the ' +\n",
              "            '<a target=\"_blank\" href=https://colab.research.google.com/notebooks/data_table.ipynb>data table notebook</a>'\n",
              "            + ' to learn more about interactive tables.';\n",
              "          element.innerHTML = '';\n",
              "          dataTable['output_type'] = 'display_data';\n",
              "          await google.colab.output.renderOutput(dataTable, element);\n",
              "          const docLink = document.createElement('div');\n",
              "          docLink.innerHTML = docLinkHtml;\n",
              "          element.appendChild(docLink);\n",
              "        }\n",
              "      </script>\n",
              "    </div>\n",
              "  </div>\n",
              "  "
            ]
          },
          "metadata": {},
          "execution_count": 15
        }
      ]
    },
    {
      "cell_type": "code",
      "source": [
        "lrmodel.predict(df1)"
      ],
      "metadata": {
        "colab": {
          "base_uri": "https://localhost:8080/"
        },
        "id": "LdfrXwVZiEkk",
        "outputId": "02f3b465-f404-46f1-a2db-fb60b95c8785"
      },
      "execution_count": 16,
      "outputs": [
        {
          "output_type": "execute_result",
          "data": {
            "text/plain": [
              "array([2.97906734, 3.02379686, 3.16826239, 2.98182845, 3.21575302])"
            ]
          },
          "metadata": {},
          "execution_count": 16
        }
      ]
    },
    {
      "cell_type": "markdown",
      "source": [
        "## 03.평가지표"
      ],
      "metadata": {
        "id": "SIean7E-iNGZ"
      }
    },
    {
      "cell_type": "code",
      "source": [
        "import pandas as pd\n",
        "import numpy as np\n",
        "from sklearn.linear_model import LinearRegression\n",
        "from sklearn.metrics import r2_score\n",
        "from sklearn.model_selection import train_test_split\n",
        "from sklearn.metrics import mean_absolute_error\n",
        "from sklearn.metrics import mean_squared_error"
      ],
      "metadata": {
        "id": "lBMyAWMZirqA"
      },
      "execution_count": 17,
      "outputs": []
    },
    {
      "cell_type": "markdown",
      "source": [
        "### 01) train_X, MSE, MAE 계산"
      ],
      "metadata": {
        "id": "_v_FkxcXii-J"
      }
    },
    {
      "cell_type": "code",
      "source": [
        "pred_train = lrmodel.predict(train_X)\n",
        "pred_test=lrmodel.predict(test_X)\n",
        "\n",
        "MAE_train= mean_absolute_error(train_Y, pred_train)\n",
        "MSE_train = mean_squared_error(train_Y, pred_train)\n",
        "\n",
        "print('MSE_train : %f' % MSE_train)\n",
        "print('MAE_train : %f' % MAE_train)"
      ],
      "metadata": {
        "colab": {
          "base_uri": "https://localhost:8080/"
        },
        "id": "8DrvcvdtiLlP",
        "outputId": "8b198cda-fdc3-4b40-80dc-6223eb4c4ea0"
      },
      "execution_count": 18,
      "outputs": [
        {
          "output_type": "stream",
          "name": "stdout",
          "text": [
            "MSE_train : 2.705129\n",
            "MAE_train : 1.198468\n"
          ]
        }
      ]
    },
    {
      "cell_type": "markdown",
      "source": [
        "### 02) test_X, MSE, MAE 계산"
      ],
      "metadata": {
        "id": "NSS01be5i7fH"
      }
    },
    {
      "cell_type": "code",
      "source": [
        "MAE_test= mean_absolute_error(test_Y, pred_test)\n",
        "MSE_test = mean_squared_error(test_Y, pred_test)\n",
        "\n",
        "print('MSE_test : %f' % MSE_test)\n",
        "print('MAE_test : %f' % MAE_test)"
      ],
      "metadata": {
        "colab": {
          "base_uri": "https://localhost:8080/"
        },
        "id": "iYL1807Ii0Bd",
        "outputId": "b55f9e7a-f9fa-4959-aabd-311fc4b054a0"
      },
      "execution_count": 19,
      "outputs": [
        {
          "output_type": "stream",
          "name": "stdout",
          "text": [
            "MSE_test : 3.174097\n",
            "MAE_test : 1.460757\n"
          ]
        }
      ]
    },
    {
      "cell_type": "markdown",
      "source": [
        "### 03) train_X 결정계수"
      ],
      "metadata": {
        "id": "6xqfEtBejDKB"
      }
    },
    {
      "cell_type": "code",
      "source": [
        "R2_train=r2_score(train_Y,pred_train)\n",
        "print('R2_trian: %f'%R2_train)"
      ],
      "metadata": {
        "colab": {
          "base_uri": "https://localhost:8080/"
        },
        "id": "wUhWMYJmjCG2",
        "outputId": "a6f81e1b-8a2f-4e7b-8a51-165f9579c0e8"
      },
      "execution_count": 20,
      "outputs": [
        {
          "output_type": "stream",
          "name": "stdout",
          "text": [
            "R2_trian: 0.895701\n"
          ]
        }
      ]
    },
    {
      "cell_type": "code",
      "source": [
        "#test_X 예측값\n",
        "pred_test=lrmodel.predict(test_X)"
      ],
      "metadata": {
        "id": "LqGut7OHjObw"
      },
      "execution_count": 21,
      "outputs": []
    },
    {
      "cell_type": "code",
      "source": [
        "R2_test=r2_score(test_Y, pred_test)\n",
        "print('R2_test: %f'%R2_test)"
      ],
      "metadata": {
        "colab": {
          "base_uri": "https://localhost:8080/"
        },
        "id": "8rzmPCEcjRp_",
        "outputId": "ba1746f5-43a5-46e1-8dcb-00dd9f0b8130"
      },
      "execution_count": 22,
      "outputs": [
        {
          "output_type": "stream",
          "name": "stdout",
          "text": [
            "R2_test: 0.899438\n"
          ]
        }
      ]
    }
  ]
}